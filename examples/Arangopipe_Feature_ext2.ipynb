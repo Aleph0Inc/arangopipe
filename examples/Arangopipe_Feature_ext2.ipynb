{
  "nbformat": 4,
  "nbformat_minor": 0,
  "metadata": {
    "colab": {
      "name": "Arangopipe_Feature_ext2.ipynb",
      "provenance": [],
      "collapsed_sections": [],
      "authorship_tag": "ABX9TyNAVcCHdz83Gm/zsDxFn8Jj",
      "include_colab_link": true
    },
    "kernelspec": {
      "name": "python3",
      "display_name": "Python 3"
    }
  },
  "cells": [
    {
      "cell_type": "markdown",
      "metadata": {
        "id": "view-in-github",
        "colab_type": "text"
      },
      "source": [
        "<a href=\"https://colab.research.google.com/github/arangoml/arangopipe/blob/409_and_env_externalization/examples/Arangopipe_Feature_ext2.ipynb\" target=\"_parent\"><img src=\"https://colab.research.google.com/assets/colab-badge.svg\" alt=\"Open In Colab\"/></a>"
      ]
    },
    {
      "cell_type": "code",
      "metadata": {
        "id": "1zCSoZQ41a5e",
        "colab_type": "code",
        "outputId": "38679052-33f6-4b4f-9f45-20eda3fa9187",
        "colab": {
          "base_uri": "https://localhost:8080/",
          "height": 1000
        }
      },
      "source": [
        "!pip install python-arango\n",
        "!pip install -i https://test.pypi.org/simple/ arangopipe\n",
        "!pip install pandas PyYAML==5.1.1 sklearn2\n",
        "!pip install jsonpickle"
      ],
      "execution_count": 0,
      "outputs": [
        {
          "output_type": "stream",
          "text": [
            "Collecting python-arango\n",
            "\u001b[?25l  Downloading https://files.pythonhosted.org/packages/f9/c3/1f8445ffc2505997da53ad5ce5e9f40875d561623d6bc84c259879e5cbcc/python-arango-5.2.1.tar.gz (78kB)\n",
            "\r\u001b[K     |████▏                           | 10kB 17.7MB/s eta 0:00:01\r\u001b[K     |████████▍                       | 20kB 3.1MB/s eta 0:00:01\r\u001b[K     |████████████▌                   | 30kB 3.9MB/s eta 0:00:01\r\u001b[K     |████████████████▊               | 40kB 2.8MB/s eta 0:00:01\r\u001b[K     |████████████████████▉           | 51kB 3.2MB/s eta 0:00:01\r\u001b[K     |█████████████████████████       | 61kB 3.8MB/s eta 0:00:01\r\u001b[K     |█████████████████████████████▏  | 71kB 4.1MB/s eta 0:00:01\r\u001b[K     |████████████████████████████████| 81kB 3.3MB/s \n",
            "\u001b[?25hRequirement already satisfied: requests in /usr/local/lib/python3.6/dist-packages (from python-arango) (2.21.0)\n",
            "Requirement already satisfied: six in /usr/local/lib/python3.6/dist-packages (from python-arango) (1.12.0)\n",
            "Requirement already satisfied: certifi>=2017.4.17 in /usr/local/lib/python3.6/dist-packages (from requests->python-arango) (2019.11.28)\n",
            "Requirement already satisfied: idna<2.9,>=2.5 in /usr/local/lib/python3.6/dist-packages (from requests->python-arango) (2.8)\n",
            "Requirement already satisfied: chardet<3.1.0,>=3.0.2 in /usr/local/lib/python3.6/dist-packages (from requests->python-arango) (3.0.4)\n",
            "Requirement already satisfied: urllib3<1.25,>=1.21.1 in /usr/local/lib/python3.6/dist-packages (from requests->python-arango) (1.24.3)\n",
            "Building wheels for collected packages: python-arango\n",
            "  Building wheel for python-arango (setup.py) ... \u001b[?25l\u001b[?25hdone\n",
            "  Created wheel for python-arango: filename=python_arango-5.2.1-py2.py3-none-any.whl size=86479 sha256=6341aeda2ea862fd577a153127039dc14711a3609011dd617674dad278028b12\n",
            "  Stored in directory: /root/.cache/pip/wheels/31/30/00/ef5ee59a25096d89fbb9e2526877f74c189eb6db50bbef9474\n",
            "Successfully built python-arango\n",
            "Installing collected packages: python-arango\n",
            "Successfully installed python-arango-5.2.1\n",
            "Looking in indexes: https://test.pypi.org/simple/\n",
            "Collecting arangopipe\n",
            "  Downloading https://test-files.pythonhosted.org/packages/76/5e/c5cad4c838e714bba29b2a908ae972ca7e601f1920c33bd3e97d5c83dbdd/arangopipe-0.0.6.4-py3-none-any.whl\n",
            "Installing collected packages: arangopipe\n",
            "Successfully installed arangopipe-0.0.6.4\n",
            "Requirement already satisfied: pandas in /usr/local/lib/python3.6/dist-packages (0.25.3)\n",
            "Collecting PyYAML==5.1.1\n",
            "\u001b[?25l  Downloading https://files.pythonhosted.org/packages/a3/65/837fefac7475963d1eccf4aa684c23b95aa6c1d033a2c5965ccb11e22623/PyYAML-5.1.1.tar.gz (274kB)\n",
            "\u001b[K     |████████████████████████████████| 276kB 5.0MB/s \n",
            "\u001b[?25hCollecting sklearn2\n",
            "  Downloading https://files.pythonhosted.org/packages/4d/b3/1d0d7e771b96212fa19013726b123a209e1dc109e2802bd99b2576bf74ed/sklearn2-0.0.13-py2.py3-none-any.whl\n",
            "Requirement already satisfied: pytz>=2017.2 in /usr/local/lib/python3.6/dist-packages (from pandas) (2018.9)\n",
            "Requirement already satisfied: python-dateutil>=2.6.1 in /usr/local/lib/python3.6/dist-packages (from pandas) (2.6.1)\n",
            "Requirement already satisfied: numpy>=1.13.3 in /usr/local/lib/python3.6/dist-packages (from pandas) (1.17.5)\n",
            "Requirement already satisfied: scikit-learn>=0.18 in /usr/local/lib/python3.6/dist-packages (from sklearn2) (0.22.1)\n",
            "Requirement already satisfied: statsmodels in /usr/local/lib/python3.6/dist-packages (from sklearn2) (0.10.2)\n",
            "Requirement already satisfied: pytest in /usr/local/lib/python3.6/dist-packages (from sklearn2) (3.6.4)\n",
            "Requirement already satisfied: patsy in /usr/local/lib/python3.6/dist-packages (from sklearn2) (0.5.1)\n",
            "Collecting category-encoders\n",
            "\u001b[?25l  Downloading https://files.pythonhosted.org/packages/a0/52/c54191ad3782de633ea3d6ee3bb2837bda0cf3bc97644bb6375cf14150a0/category_encoders-2.1.0-py2.py3-none-any.whl (100kB)\n",
            "\u001b[K     |████████████████████████████████| 102kB 12.6MB/s \n",
            "\u001b[?25hRequirement already satisfied: matplotlib>=1.5.1 in /usr/local/lib/python3.6/dist-packages (from sklearn2) (3.1.3)\n",
            "Requirement already satisfied: pydot in /usr/local/lib/python3.6/dist-packages (from sklearn2) (1.3.0)\n",
            "Requirement already satisfied: six>=1.5 in /usr/local/lib/python3.6/dist-packages (from python-dateutil>=2.6.1->pandas) (1.12.0)\n",
            "Requirement already satisfied: scipy>=0.17.0 in /usr/local/lib/python3.6/dist-packages (from scikit-learn>=0.18->sklearn2) (1.4.1)\n",
            "Requirement already satisfied: joblib>=0.11 in /usr/local/lib/python3.6/dist-packages (from scikit-learn>=0.18->sklearn2) (0.14.1)\n",
            "Requirement already satisfied: more-itertools>=4.0.0 in /usr/local/lib/python3.6/dist-packages (from pytest->sklearn2) (8.2.0)\n",
            "Requirement already satisfied: attrs>=17.4.0 in /usr/local/lib/python3.6/dist-packages (from pytest->sklearn2) (19.3.0)\n",
            "Requirement already satisfied: pluggy<0.8,>=0.5 in /usr/local/lib/python3.6/dist-packages (from pytest->sklearn2) (0.7.1)\n",
            "Requirement already satisfied: py>=1.5.0 in /usr/local/lib/python3.6/dist-packages (from pytest->sklearn2) (1.8.1)\n",
            "Requirement already satisfied: setuptools in /usr/local/lib/python3.6/dist-packages (from pytest->sklearn2) (45.1.0)\n",
            "Requirement already satisfied: atomicwrites>=1.0 in /usr/local/lib/python3.6/dist-packages (from pytest->sklearn2) (1.3.0)\n",
            "Requirement already satisfied: kiwisolver>=1.0.1 in /usr/local/lib/python3.6/dist-packages (from matplotlib>=1.5.1->sklearn2) (1.1.0)\n",
            "Requirement already satisfied: pyparsing!=2.0.4,!=2.1.2,!=2.1.6,>=2.0.1 in /usr/local/lib/python3.6/dist-packages (from matplotlib>=1.5.1->sklearn2) (2.4.6)\n",
            "Requirement already satisfied: cycler>=0.10 in /usr/local/lib/python3.6/dist-packages (from matplotlib>=1.5.1->sklearn2) (0.10.0)\n",
            "Building wheels for collected packages: PyYAML\n",
            "  Building wheel for PyYAML (setup.py) ... \u001b[?25l\u001b[?25hdone\n",
            "  Created wheel for PyYAML: filename=PyYAML-5.1.1-cp36-cp36m-linux_x86_64.whl size=44099 sha256=592108373b4f3ec39e5fd01f133f22abb25e00e3d8579ebc511a582ea0a6fab6\n",
            "  Stored in directory: /root/.cache/pip/wheels/16/27/a1/775c62ddea7bfa62324fd1f65847ed31c55dadb6051481ba3f\n",
            "Successfully built PyYAML\n",
            "Installing collected packages: PyYAML, category-encoders, sklearn2\n",
            "  Found existing installation: PyYAML 3.13\n",
            "    Uninstalling PyYAML-3.13:\n",
            "      Successfully uninstalled PyYAML-3.13\n",
            "Successfully installed PyYAML-5.1.1 category-encoders-2.1.0 sklearn2-0.0.13\n",
            "Collecting jsonpickle\n",
            "  Downloading https://files.pythonhosted.org/packages/07/07/c157520a3ebd166c8c24c6ae0ecae7c3968eb4653ff0e5af369bb82f004d/jsonpickle-1.2-py2.py3-none-any.whl\n",
            "Installing collected packages: jsonpickle\n",
            "Successfully installed jsonpickle-1.2\n"
          ],
          "name": "stdout"
        }
      ]
    },
    {
      "cell_type": "code",
      "metadata": {
        "id": "Ti9wsAlB2BJR",
        "colab_type": "code",
        "outputId": "97b1573a-b032-4fec-ed6c-b162f5c1fbbc",
        "colab": {
          "base_uri": "https://localhost:8080/",
          "height": 195
        }
      },
      "source": [
        "import pandas as pd\n",
        "import numpy as np\n",
        "data_url = \"https://raw.githubusercontent.com/arangoml/arangopipe/arangopipe_examples/examples/data/cal_housing.csv\"\n",
        "df = pd.read_csv(data_url, error_bad_lines=False)\n",
        "df = df.sample(n = 500)\n",
        "df.head()"
      ],
      "execution_count": 0,
      "outputs": [
        {
          "output_type": "execute_result",
          "data": {
            "text/html": [
              "<div>\n",
              "<style scoped>\n",
              "    .dataframe tbody tr th:only-of-type {\n",
              "        vertical-align: middle;\n",
              "    }\n",
              "\n",
              "    .dataframe tbody tr th {\n",
              "        vertical-align: top;\n",
              "    }\n",
              "\n",
              "    .dataframe thead th {\n",
              "        text-align: right;\n",
              "    }\n",
              "</style>\n",
              "<table border=\"1\" class=\"dataframe\">\n",
              "  <thead>\n",
              "    <tr style=\"text-align: right;\">\n",
              "      <th></th>\n",
              "      <th>lat</th>\n",
              "      <th>long</th>\n",
              "      <th>housingMedAge</th>\n",
              "      <th>totalRooms</th>\n",
              "      <th>totalBedrooms</th>\n",
              "      <th>population</th>\n",
              "      <th>households</th>\n",
              "      <th>medianIncome</th>\n",
              "      <th>medianHouseValue</th>\n",
              "    </tr>\n",
              "  </thead>\n",
              "  <tbody>\n",
              "    <tr>\n",
              "      <th>6291</th>\n",
              "      <td>-117.88</td>\n",
              "      <td>34.00</td>\n",
              "      <td>21</td>\n",
              "      <td>5459</td>\n",
              "      <td>1086</td>\n",
              "      <td>3394</td>\n",
              "      <td>1087</td>\n",
              "      <td>3.6308</td>\n",
              "      <td>192100.0</td>\n",
              "    </tr>\n",
              "    <tr>\n",
              "      <th>18877</th>\n",
              "      <td>-122.24</td>\n",
              "      <td>38.07</td>\n",
              "      <td>13</td>\n",
              "      <td>5451</td>\n",
              "      <td>1194</td>\n",
              "      <td>2957</td>\n",
              "      <td>1081</td>\n",
              "      <td>2.6098</td>\n",
              "      <td>162500.0</td>\n",
              "    </tr>\n",
              "    <tr>\n",
              "      <th>7198</th>\n",
              "      <td>-118.18</td>\n",
              "      <td>34.03</td>\n",
              "      <td>40</td>\n",
              "      <td>2631</td>\n",
              "      <td>698</td>\n",
              "      <td>2920</td>\n",
              "      <td>677</td>\n",
              "      <td>2.0764</td>\n",
              "      <td>145600.0</td>\n",
              "    </tr>\n",
              "    <tr>\n",
              "      <th>15066</th>\n",
              "      <td>-116.96</td>\n",
              "      <td>32.79</td>\n",
              "      <td>17</td>\n",
              "      <td>5236</td>\n",
              "      <td>1325</td>\n",
              "      <td>3308</td>\n",
              "      <td>1233</td>\n",
              "      <td>2.3221</td>\n",
              "      <td>138800.0</td>\n",
              "    </tr>\n",
              "    <tr>\n",
              "      <th>2099</th>\n",
              "      <td>-119.76</td>\n",
              "      <td>36.75</td>\n",
              "      <td>35</td>\n",
              "      <td>2347</td>\n",
              "      <td>526</td>\n",
              "      <td>1676</td>\n",
              "      <td>481</td>\n",
              "      <td>1.6548</td>\n",
              "      <td>49400.0</td>\n",
              "    </tr>\n",
              "  </tbody>\n",
              "</table>\n",
              "</div>"
            ],
            "text/plain": [
              "          lat   long  housingMedAge  ...  households  medianIncome  medianHouseValue\n",
              "6291  -117.88  34.00             21  ...        1087        3.6308          192100.0\n",
              "18877 -122.24  38.07             13  ...        1081        2.6098          162500.0\n",
              "7198  -118.18  34.03             40  ...         677        2.0764          145600.0\n",
              "15066 -116.96  32.79             17  ...        1233        2.3221          138800.0\n",
              "2099  -119.76  36.75             35  ...         481        1.6548           49400.0\n",
              "\n",
              "[5 rows x 9 columns]"
            ]
          },
          "metadata": {
            "tags": []
          },
          "execution_count": 2
        }
      ]
    },
    {
      "cell_type": "markdown",
      "metadata": {
        "id": "mm_LY1382HAP",
        "colab_type": "text"
      },
      "source": [
        "# Detecting Covariate Shift in Datasets¶"
      ]
    },
    {
      "cell_type": "markdown",
      "metadata": {
        "id": "msJaE04a2JIE",
        "colab_type": "text"
      },
      "source": [
        "Regression models predict a response based on predictor variables. The model parameters are etimated from the data. When the underlying data distribution associated with the predictors changes, the model and its associated parameters that were determined based on a previous batch of data, may not be optimal for the data that we are now seeing. This is known as covariate shift. Ok, so all that is well and good, but how do we detect that the underlying dataset distribution has changed? We can employ a simple technique to do that and we will illustrate that in this notebook.\n",
        "\n",
        "The problem context is as follows. We have two batches of data. One is the version used to build the current model in production and the other is the batch of data that we have received since the model has been deployed. The question is is the current batch of data different in a distributional sense from the one used to build the current model? We will use machine learning to solve this problem. We will tag the data from the batch used to build the current production model as $0$ and the batch of data that we have received since then as $1$. We will develop a model to discriminate these two labels. If the model we develop can discriminate very well between data from these two batches, then covariate shift has occured and we need to revisit modeling. If the model cannot discriminate well between these two batches, for example, the classifier we develop produces an accuracy of about $0.5$ then this classifier is not very discriminatory. It only performs as well as tossing a fair coin. If we observe such a result, then we conclude that sufficient dataset shift has not occured and our current model will serve us well.\n",
        "\n",
        "We illustrate this idea with the data from the california housing dataset (available in the UCI machine learning repository). The machine learning task associated with the dataset is to predict the median house value given a set of predictors. The rest of the notebook illustrates the idea discussed above."
      ]
    },
    {
      "cell_type": "markdown",
      "metadata": {
        "id": "WjO0JhhI2NwL",
        "colab_type": "text"
      },
      "source": [
        ""
      ]
    },
    {
      "cell_type": "code",
      "metadata": {
        "id": "BwWUcWaX2VcW",
        "colab_type": "code",
        "outputId": "7a1fbbaf-1533-410d-fded-b8e08385003d",
        "colab": {
          "base_uri": "https://localhost:8080/",
          "height": 175
        }
      },
      "source": [
        "\n",
        "req_cols = df.columns.tolist()\n",
        "req_cols.remove(\"medianHouseValue\")\n",
        "df = df[req_cols]\n",
        "df.dtypes"
      ],
      "execution_count": 0,
      "outputs": [
        {
          "output_type": "execute_result",
          "data": {
            "text/plain": [
              "lat              float64\n",
              "long             float64\n",
              "housingMedAge      int64\n",
              "totalRooms         int64\n",
              "totalBedrooms      int64\n",
              "population         int64\n",
              "households         int64\n",
              "medianIncome     float64\n",
              "dtype: object"
            ]
          },
          "metadata": {
            "tags": []
          },
          "execution_count": 3
        }
      ]
    },
    {
      "cell_type": "code",
      "metadata": {
        "id": "bhEriHeQ2anY",
        "colab_type": "code",
        "outputId": "c53f3963-c950-480a-a25e-14bf982bcb58",
        "colab": {
          "base_uri": "https://localhost:8080/",
          "height": 175
        }
      },
      "source": [
        "df[\"lat\"].describe()"
      ],
      "execution_count": 0,
      "outputs": [
        {
          "output_type": "execute_result",
          "data": {
            "text/plain": [
              "count    500.000000\n",
              "mean    -119.546120\n",
              "std        1.975732\n",
              "min     -124.160000\n",
              "25%     -121.642500\n",
              "50%     -118.525000\n",
              "75%     -117.990000\n",
              "max     -115.520000\n",
              "Name: lat, dtype: float64"
            ]
          },
          "metadata": {
            "tags": []
          },
          "execution_count": 4
        }
      ]
    },
    {
      "cell_type": "markdown",
      "metadata": {
        "id": "-6gU4sk32eWw",
        "colab_type": "text"
      },
      "source": [
        "##  Exploring the Data"
      ]
    },
    {
      "cell_type": "markdown",
      "metadata": {
        "id": "i3XV4ZA92qNI",
        "colab_type": "text"
      },
      "source": [
        "When we plot the histogram of the lat variable, we see two populations (see below):\n",
        "\n",
        "1. A group with lat values less than -119\n",
        "\n",
        "2.  A group with lat values greater than -119 \n",
        "\n",
        "Lets pretend that the current batch of data used to develop our regression model is the first one. We have now received the second batch. Can we discriminate between the two. Lets develop a classifier and see if we can."
      ]
    },
    {
      "cell_type": "code",
      "metadata": {
        "id": "S58E4ofO2zaV",
        "colab_type": "code",
        "outputId": "ee31fcc6-c202-4365-81c5-eb8396ad42dd",
        "colab": {
          "base_uri": "https://localhost:8080/",
          "height": 284
        }
      },
      "source": [
        "\n",
        "import matplotlib.pyplot as plt\n",
        "%matplotlib inline  \n",
        "df[\"lat\"].hist()"
      ],
      "execution_count": 0,
      "outputs": [
        {
          "output_type": "execute_result",
          "data": {
            "text/plain": [
              "<matplotlib.axes._subplots.AxesSubplot at 0x7fd480860358>"
            ]
          },
          "metadata": {
            "tags": []
          },
          "execution_count": 5
        },
        {
          "output_type": "display_data",
          "data": {
            "image/png": "[encoded data removed]",
            "text/plain": [
              "<Figure size 432x288 with 1 Axes>"
            ]
          },
          "metadata": {
            "tags": []
          }
        }
      ]
    },
    {
      "cell_type": "code",
      "metadata": {
        "id": "bk6DUjJ123cJ",
        "colab_type": "code",
        "colab": {}
      },
      "source": [
        "\n",
        "df1 = df.query(\"lat <= -119\")\n",
        "df2 = df.query(\"lat > -119\")"
      ],
      "execution_count": 0,
      "outputs": []
    },
    {
      "cell_type": "markdown",
      "metadata": {
        "id": "sx_XRQ5R2_qy",
        "colab_type": "text"
      },
      "source": [
        "##  Use the dataset shift api"
      ]
    },
    {
      "cell_type": "code",
      "metadata": {
        "id": "YFd9KTcD3HIo",
        "colab_type": "code",
        "outputId": "7438989a-0bb5-44dd-9931-bb214db1c38d",
        "colab": {
          "base_uri": "https://localhost:8080/",
          "height": 34
        }
      },
      "source": [
        "from arangopipe.arangopipe_analytics.rf_dataset_shift_detector import RF_DatasetShiftDetector\n",
        "\n",
        "rfd = RF_DatasetShiftDetector()\n",
        "score = rfd.detect_dataset_shift(df1, df2)\n",
        "print (\"Detaset shift score : %2.2f\" % (score))"
      ],
      "execution_count": 0,
      "outputs": [
        {
          "output_type": "stream",
          "text": [
            "Detaset shift score : 1.00\n"
          ],
          "name": "stdout"
        }
      ]
    },
    {
      "cell_type": "markdown",
      "metadata": {
        "id": "w4YOQmgo3ieV",
        "colab_type": "text"
      },
      "source": [
        "# Interpretation of the score reported by the shift detecto"
      ]
    },
    {
      "cell_type": "markdown",
      "metadata": {
        "id": "-VSaH5_k3mvC",
        "colab_type": "text"
      },
      "source": [
        "The API uses a classifier to discriminate between the datasets provided to it. The score reported by the API is the accuracy of the classifier to discriminate between the datasets. Values close to $0.5$ indicate that the classifier in not able to discriminate between the two datasets. This could be interpretted as a situation where no discernable shift has occured in the data since the last model deployment. Values close $1$ indicate that dataset shift is discernable and that we may need to revisit modeling. How dataset shift affects the performance of the deployed model is problem dependent. So the score must be assessed in the context of a particular application. An experiment to track the loss of model accuracy with the observed score could provide insights into a threshold score beyond which a model redevelopment is needed."
      ]
    }
  ]
}