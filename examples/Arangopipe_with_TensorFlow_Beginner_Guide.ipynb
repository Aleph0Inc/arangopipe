{
  "nbformat": 4,
  "nbformat_minor": 0,
  "metadata": {
    "colab": {
      "name": "Arangopipe_with_TensorFlow_Beginner_Guide.ipynb",
      "provenance": [],
      "include_colab_link": true
    },
    "kernelspec": {
      "name": "python3",
      "display_name": "Python 3"
    }
  },
  "cells": [
    {
      "cell_type": "markdown",
      "metadata": {
        "id": "view-in-github",
        "colab_type": "text"
      },
      "source": [
        "<a href=\"https://colab.research.google.com/github/arangoml/arangopipe/blob/409_and_env_externalization/examples/Arangopipe_with_TensorFlow_Beginner_Guide.ipynb\" target=\"_parent\"><img src=\"https://colab.research.google.com/assets/colab-badge.svg\" alt=\"Open In Colab\"/></a>"
      ]
    },
    {
      "cell_type": "markdown",
      "metadata": {
        "id": "2T9nS8U7QSdX",
        "colab_type": "text"
      },
      "source": [
        " <a href=\"https://colab.research.google.com/github/arangoml/arangopipe/blob/master/examples/Arangopipe_with_TensorFlow_Beginner_Guide.ipynb\">\n",
        "  <center><img src=\"https://colab.research.google.com/assets/colab-badge.svg\" alt=\"Open In Colab\"/> </center>\n",
        "</a>\n",
        "\n"
      ]
    },
    {
      "cell_type": "markdown",
      "metadata": {
        "id": "2Ee_5CPvQSdg",
        "colab_type": "text"
      },
      "source": [
        "##### Copyright 2019 The TensorFlow Authors."
      ]
    },
    {
      "cell_type": "code",
      "metadata": {
        "id": "6A8DvZ8vQSdj",
        "colab_type": "code",
        "colab": {}
      },
      "source": [
        "#@title Licensed under the Apache License, Version 2.0 (the \"License\");\n",
        "# you may not use this file except in compliance with the License.\n",
        "# You may obtain a copy of the License at\n",
        "#\n",
        "# https://www.apache.org/licenses/LICENSE-2.0\n",
        "#\n",
        "# Unless required by applicable law or agreed to in writing, software\n",
        "# distributed under the License is distributed on an \"AS IS\" BASIS,\n",
        "# WITHOUT WARRANTIES OR CONDITIONS OF ANY KIND, either express or implied.\n",
        "# See the License for the specific language governing permissions and\n",
        "# limitations under the License."
      ],
      "execution_count": 0,
      "outputs": []
    },
    {
      "cell_type": "markdown",
      "metadata": {
        "id": "MansUEqCQSdr",
        "colab_type": "text"
      },
      "source": [
        "# ArangoML Pipeline Cloud\n",
        "The purpose of this notebook is to show how easy it is to drop in ArangoML Pipeline to your pre-existing Machine Learning workflows.\n",
        "\n",
        "We took the simplest existing example of TensorFlow, their beginner's notebook, and simply dropped in our pipeline to capture and store metadata.\n",
        "\n",
        "If you would like to continue learning about ArangoML and the managed metadata pipeline read our release post https://www.arangodb.com/2020/01/arangoml-pipeline-cloud-manage-machine-learning-metadata/\n"
      ]
    },
    {
      "cell_type": "markdown",
      "metadata": {
        "id": "G1KdMDCfQSdv",
        "colab_type": "text"
      },
      "source": [
        "# TensorFlow 2 quickstart for beginners"
      ]
    },
    {
      "cell_type": "markdown",
      "metadata": {
        "id": "OApbrZ4RQSdx",
        "colab_type": "text"
      },
      "source": [
        "<table class=\"tfo-notebook-buttons\" align=\"left\">\n",
        "  <td>\n",
        "    <a target=\"_blank\" href=\"https://www.tensorflow.org/tutorials/quickstart/beginner\"><img src=\"https://www.tensorflow.org/images/tf_logo_32px.png\" />View on TensorFlow.org</a>\n",
        "  </td>\n",
        "  <td>\n",
        "    <a target=\"_blank\" href=\"https://colab.research.google.com/github/tensorflow/docs/blob/master/site/en/tutorials/quickstart/beginner.ipynb\"><img src=\"https://www.tensorflow.org/images/colab_logo_32px.png\" />Run in Google Colab</a>\n",
        "  </td>\n",
        "  <td>\n",
        "    <a target=\"_blank\" href=\"https://github.com/tensorflow/docs/blob/master/site/en/tutorials/quickstart/beginner.ipynb\"><img src=\"https://www.tensorflow.org/images/GitHub-Mark-32px.png\" />View source on GitHub</a>\n",
        "  </td>\n",
        "  <td>\n",
        "    <a href=\"https://storage.googleapis.com/tensorflow_docs/docs/site/en/tutorials/quickstart/beginner.ipynb\"><img src=\"https://www.tensorflow.org/images/download_logo_32px.png\" />Download notebook</a>\n",
        "  </td>\n",
        "</table>"
      ]
    },
    {
      "cell_type": "markdown",
      "metadata": {
        "id": "8xUqw0n6QSdz",
        "colab_type": "text"
      },
      "source": [
        "This short introduction uses [Keras](https://www.tensorflow.org/guide/keras/overview) to:\n",
        "\n",
        "1. Build a neural network that classifies images.\n",
        "2. Train this neural network.\n",
        "3. And, finally, evaluate the accuracy of the model."
      ]
    },
    {
      "cell_type": "markdown",
      "metadata": {
        "id": "7tf3iPkTQSd1",
        "colab_type": "text"
      },
      "source": [
        "This is a [Google Colaboratory](https://colab.research.google.com/notebooks/welcome.ipynb) notebook file. Python programs are run directly in the browser—a great way to learn and use TensorFlow. To follow this tutorial, run the notebook in Google Colab by clicking the button at the top of this page.\n",
        "\n",
        "1. In Colab, connect to a Python runtime: At the top-right of the menu bar, select *CONNECT*.\n",
        "2. Run all the notebook code cells: Select *Runtime* > *Run all*."
      ]
    },
    {
      "cell_type": "markdown",
      "metadata": {
        "id": "lOG-el9NQSd3",
        "colab_type": "text"
      },
      "source": [
        "# Install Required Packages"
      ]
    },
    {
      "cell_type": "code",
      "metadata": {
        "id": "86CG9sVmQSd6",
        "colab_type": "code",
        "colab": {
          "base_uri": "https://localhost:8080/",
          "height": 706
        },
        "outputId": "bb8abb5b-fb5b-4c10-e19e-b44ebd68cc7b"
      },
      "source": [
        "!pip install python-arango\n",
        "!pip install -i https://test.pypi.org/simple/ arangopipe\n",
        "!pip install pandas PyYAML==5.1.1 sklearn2\n",
        "!pip install json-tricks "
      ],
      "execution_count": 3,
      "outputs": [
        {
          "output_type": "stream",
          "text": [
            "Requirement already satisfied: python-arango in /usr/local/lib/python3.6/dist-packages (5.2.1)\n",
            "Requirement already satisfied: six in /usr/local/lib/python3.6/dist-packages (from python-arango) (1.12.0)\n",
            "Requirement already satisfied: requests in /usr/local/lib/python3.6/dist-packages (from python-arango) (2.21.0)\n",
            "Requirement already satisfied: certifi>=2017.4.17 in /usr/local/lib/python3.6/dist-packages (from requests->python-arango) (2019.11.28)\n",
            "Requirement already satisfied: chardet<3.1.0,>=3.0.2 in /usr/local/lib/python3.6/dist-packages (from requests->python-arango) (3.0.4)\n",
            "Requirement already satisfied: idna<2.9,>=2.5 in /usr/local/lib/python3.6/dist-packages (from requests->python-arango) (2.8)\n",
            "Requirement already satisfied: urllib3<1.25,>=1.21.1 in /usr/local/lib/python3.6/dist-packages (from requests->python-arango) (1.24.3)\n",
            "Looking in indexes: https://test.pypi.org/simple/\n",
            "Collecting arangopipe\n",
            "  Downloading https://test-files.pythonhosted.org/packages/4e/a5/5c735a7b1893d5f61a647b3cefc569921526223f2ee44c52f154b54c896a/arangopipe-0.0.6.8.4-py3-none-any.whl\n",
            "Installing collected packages: arangopipe\n",
            "Successfully installed arangopipe-0.0.6.8.4\n",
            "Requirement already satisfied: pandas in /usr/local/lib/python3.6/dist-packages (0.25.3)\n",
            "Requirement already satisfied: PyYAML==5.1.1 in /usr/local/lib/python3.6/dist-packages (5.1.1)\n",
            "Requirement already satisfied: sklearn2 in /usr/local/lib/python3.6/dist-packages (0.0.13)\n",
            "Requirement already satisfied: numpy>=1.13.3 in /usr/local/lib/python3.6/dist-packages (from pandas) (1.17.5)\n",
            "Requirement already satisfied: python-dateutil>=2.6.1 in /usr/local/lib/python3.6/dist-packages (from pandas) (2.6.1)\n",
            "Requirement already satisfied: pytz>=2017.2 in /usr/local/lib/python3.6/dist-packages (from pandas) (2018.9)\n",
            "Requirement already satisfied: patsy in /usr/local/lib/python3.6/dist-packages (from sklearn2) (0.5.1)\n",
            "Requirement already satisfied: scikit-learn>=0.18 in /usr/local/lib/python3.6/dist-packages (from sklearn2) (0.22.1)\n",
            "Requirement already satisfied: category-encoders in /usr/local/lib/python3.6/dist-packages (from sklearn2) (2.1.0)\n",
            "Requirement already satisfied: pytest in /usr/local/lib/python3.6/dist-packages (from sklearn2) (3.6.4)\n",
            "Requirement already satisfied: pydot in /usr/local/lib/python3.6/dist-packages (from sklearn2) (1.3.0)\n",
            "Requirement already satisfied: statsmodels in /usr/local/lib/python3.6/dist-packages (from sklearn2) (0.10.2)\n",
            "Requirement already satisfied: matplotlib>=1.5.1 in /usr/local/lib/python3.6/dist-packages (from sklearn2) (3.1.3)\n",
            "Requirement already satisfied: six>=1.5 in /usr/local/lib/python3.6/dist-packages (from python-dateutil>=2.6.1->pandas) (1.12.0)\n",
            "Requirement already satisfied: joblib>=0.11 in /usr/local/lib/python3.6/dist-packages (from scikit-learn>=0.18->sklearn2) (0.14.1)\n",
            "Requirement already satisfied: scipy>=0.17.0 in /usr/local/lib/python3.6/dist-packages (from scikit-learn>=0.18->sklearn2) (1.4.1)\n",
            "Requirement already satisfied: atomicwrites>=1.0 in /usr/local/lib/python3.6/dist-packages (from pytest->sklearn2) (1.3.0)\n",
            "Requirement already satisfied: attrs>=17.4.0 in /usr/local/lib/python3.6/dist-packages (from pytest->sklearn2) (19.3.0)\n",
            "Requirement already satisfied: py>=1.5.0 in /usr/local/lib/python3.6/dist-packages (from pytest->sklearn2) (1.8.1)\n",
            "Requirement already satisfied: pluggy<0.8,>=0.5 in /usr/local/lib/python3.6/dist-packages (from pytest->sklearn2) (0.7.1)\n",
            "Requirement already satisfied: more-itertools>=4.0.0 in /usr/local/lib/python3.6/dist-packages (from pytest->sklearn2) (8.2.0)\n",
            "Requirement already satisfied: setuptools in /usr/local/lib/python3.6/dist-packages (from pytest->sklearn2) (45.1.0)\n",
            "Requirement already satisfied: pyparsing>=2.1.4 in /usr/local/lib/python3.6/dist-packages (from pydot->sklearn2) (2.4.6)\n",
            "Requirement already satisfied: cycler>=0.10 in /usr/local/lib/python3.6/dist-packages (from matplotlib>=1.5.1->sklearn2) (0.10.0)\n",
            "Requirement already satisfied: kiwisolver>=1.0.1 in /usr/local/lib/python3.6/dist-packages (from matplotlib>=1.5.1->sklearn2) (1.1.0)\n",
            "Requirement already satisfied: json-tricks in /usr/local/lib/python3.6/dist-packages (3.13.6)\n"
          ],
          "name": "stdout"
        }
      ]
    },
    {
      "cell_type": "markdown",
      "metadata": {
        "id": "q1y0A_d7QSeE",
        "colab_type": "text"
      },
      "source": [
        "Download and install the TensorFlow 2 package. Import TensorFlow into your program:"
      ]
    },
    {
      "cell_type": "code",
      "metadata": {
        "id": "iKqMA7c1QSeG",
        "colab_type": "code",
        "colab": {
          "base_uri": "https://localhost:8080/",
          "height": 34
        },
        "outputId": "ef434f84-fad5-419d-8661-0a39d89ae504"
      },
      "source": [
        "from __future__ import absolute_import, division, print_function, unicode_literals\n",
        "\n",
        "# Install TensorFlow\n",
        "try:\n",
        "  # %tensorflow_version only exists in Colab.\n",
        "  %tensorflow_version 2.x\n",
        "except Exception:\n",
        "  pass\n",
        "\n",
        "import tensorflow as tf"
      ],
      "execution_count": 4,
      "outputs": [
        {
          "output_type": "stream",
          "text": [
            "TensorFlow 2.x selected.\n"
          ],
          "name": "stdout"
        }
      ]
    },
    {
      "cell_type": "markdown",
      "metadata": {
        "id": "iZQyyoQFQSeN",
        "colab_type": "text"
      },
      "source": [
        "# Initial Connection to a Managed Service ArangoPipe Database"
      ]
    },
    {
      "cell_type": "code",
      "metadata": {
        "id": "w_fYoC-LQSeS",
        "colab_type": "code",
        "colab": {}
      },
      "source": [
        "from arangopipe.arangopipe_storage.arangopipe_api import ArangoPipe\n",
        "from arangopipe.arangopipe_storage.arangopipe_admin_api import ArangoPipeAdmin\n",
        "from arangopipe.arangopipe_storage.arangopipe_config import ArangoPipeConfig\n",
        "from arangopipe.arangopipe_storage.managed_service_conn_parameters import ManagedServiceConnParam\n",
        "mdb_config = ArangoPipeConfig()\n",
        "msc = ManagedServiceConnParam()\n",
        "conn_params = { msc.DB_SERVICE_HOST : \"arangoml.arangodb.cloud\", \\\n",
        "                        msc.DB_SERVICE_END_POINT : \"createDB\",\\\n",
        "                        msc.DB_SERVICE_NAME : \"createDB\",\\\n",
        "                        msc.DB_SERVICE_PORT : 8529,\n",
        "                        msc.DB_CONN_PROTOCOL : 'https'}\n",
        "        \n",
        "mdb_config = mdb_config.create_connection_config(conn_params)"
      ],
      "execution_count": 0,
      "outputs": []
    },
    {
      "cell_type": "code",
      "metadata": {
        "id": "G1lNMEdPQSeZ",
        "colab_type": "code",
        "colab": {
          "base_uri": "https://localhost:8080/",
          "height": 34
        },
        "outputId": "a7dfb30b-1b59-420a-df0b-8596e5bb28cd"
      },
      "source": [
        "%%capture\n",
        "admin = ArangoPipeAdmin(reuse_connection = False, config = mdb_config)\n",
        "ap_config = admin.get_config()\n",
        "ap = ArangoPipe(config = ap_config)\n",
        "# Error indicating \"heart beat check was not found\" is expected."
      ],
      "execution_count": 6,
      "outputs": [
        {
          "output_type": "stream",
          "text": [
            "2020-02-11 03:44:54,615 - arangopipe_logger - ERROR - The dataset by name: heart beat check was not found in Arangopipe!\n"
          ],
          "name": "stderr"
        }
      ]
    },
    {
      "cell_type": "markdown",
      "metadata": {
        "id": "EcbiJbl8QSek",
        "colab_type": "text"
      },
      "source": [
        "Load and prepare the [MNIST dataset](http://yann.lecun.com/exdb/mnist/). Convert the samples from integers to floating-point numbers:"
      ]
    },
    {
      "cell_type": "code",
      "metadata": {
        "id": "rbO_AsViQSem",
        "colab_type": "code",
        "colab": {}
      },
      "source": [
        "mnist = tf.keras.datasets.mnist\n",
        "\n",
        "(x_train, y_train), (x_test, y_test) = mnist.load_data()\n",
        "x_train, x_test = x_train / 255.0, x_test / 255.0\n"
      ],
      "execution_count": 0,
      "outputs": []
    },
    {
      "cell_type": "markdown",
      "metadata": {
        "id": "dhJOK2rAQSes",
        "colab_type": "text"
      },
      "source": [
        "Set identifying metadata information for this project. \\\n",
        "This includes project name, dataset, featureset, and model information.\\\n",
        "This information is then registered and stored."
      ]
    },
    {
      "cell_type": "code",
      "metadata": {
        "id": "O3zoG45-QSeu",
        "colab_type": "code",
        "colab": {}
      },
      "source": [
        "proj_info = {\"name\": \"MNIST Handwriting Analysis\"}\n",
        "proj_reg = admin.register_project(proj_info)\n",
        "\n",
        "ds_info = {\"name\" : \"MNIST dataset\",\\\n",
        "           \"description\": \"Classification task pertaining to classifiying the digit in an iamge\" }\n",
        "ds_reg = ap.register_dataset(ds_info)\n",
        "\n",
        "featureset = {'name': 'MNIST digits',\n",
        "              'description': '28 x 28 pixel images with a label'}\n",
        "fs_reg = ap.register_featureset(featureset, ds_reg[\"_key\"])\n",
        "\n",
        "model_info = {\"name\": \"Neural Network\",\\\n",
        "              \"type\": \"Neural network with Linear layer, ReLU activation, Dropout Layer (20%) and Softmax output layer\"}\n",
        "model_reg = ap.register_model(model_info, project = \"MNIST Handwriting Analysis\")"
      ],
      "execution_count": 0,
      "outputs": []
    },
    {
      "cell_type": "markdown",
      "metadata": {
        "id": "eTB6VSgjQSe3",
        "colab_type": "text"
      },
      "source": [
        "Build the `tf.keras.Sequential` model by stacking layers. Choose an optimizer and loss function for training:"
      ]
    },
    {
      "cell_type": "code",
      "metadata": {
        "id": "hJ3GMOjdQSe5",
        "colab_type": "code",
        "colab": {}
      },
      "source": [
        "model = tf.keras.models.Sequential([\n",
        "  tf.keras.layers.Flatten(input_shape=(28, 28)),\n",
        "  tf.keras.layers.Dense(128, activation='relu'),\n",
        "  tf.keras.layers.Dropout(0.2),\n",
        "  tf.keras.layers.Dense(10, activation='softmax')\n",
        "])\n",
        "\n",
        "model.compile(optimizer='adam',\n",
        "              loss='sparse_categorical_crossentropy',\n",
        "              metrics=['accuracy'])"
      ],
      "execution_count": 0,
      "outputs": []
    },
    {
      "cell_type": "markdown",
      "metadata": {
        "id": "m7Fe1GFgQSe_",
        "colab_type": "text"
      },
      "source": [
        "Train and evaluate the model:"
      ]
    },
    {
      "cell_type": "code",
      "metadata": {
        "id": "YF0x3o3RQSfC",
        "colab_type": "code",
        "colab": {
          "base_uri": "https://localhost:8080/",
          "height": 246
        },
        "outputId": "1cb8f924-5877-4af7-f82b-693b74a02428"
      },
      "source": [
        "import uuid #used as run id\n",
        "from datetime import datetime\n",
        "model.fit(x_train, y_train, epochs=5)\n",
        "\n",
        "\n",
        "# Values for any important model parameters and to store performance results.\n",
        "ruuid = uuid.uuid4()\n",
        "\n",
        "# current date and time\n",
        "now = datetime.now()\n",
        "timestamp = datetime.timestamp(now)\n",
        "\n",
        "model_params = {\"run_id\": str(ruuid)}\n",
        "(loss), (accuracy) = model.evaluate(x_test,  y_test, verbose=2)\n",
        "print(\"model loss %.2f , model accuracy %.2f\" % (loss, accuracy))\n",
        "model_perf = {\"loss\": str(loss),\n",
        "              \"accuracy\": str(accuracy),\n",
        "              \"run_id\": str(ruuid),\n",
        "              \"timestamp\": timestamp}\n"
      ],
      "execution_count": 10,
      "outputs": [
        {
          "output_type": "stream",
          "text": [
            "Train on 60000 samples\n",
            "Epoch 1/5\n",
            "60000/60000 [==============================] - 5s 87us/sample - loss: 0.2938 - accuracy: 0.9144\n",
            "Epoch 2/5\n",
            "60000/60000 [==============================] - 5s 81us/sample - loss: 0.1412 - accuracy: 0.9576\n",
            "Epoch 3/5\n",
            "60000/60000 [==============================] - 5s 81us/sample - loss: 0.1046 - accuracy: 0.9687\n",
            "Epoch 4/5\n",
            "60000/60000 [==============================] - 5s 81us/sample - loss: 0.0851 - accuracy: 0.9736\n",
            "Epoch 5/5\n",
            "60000/60000 [==============================] - 5s 81us/sample - loss: 0.0742 - accuracy: 0.9773\n",
            "10000/10000 - 0s - loss: 0.0783 - accuracy: 0.9753\n",
            "model loss 0.08 , model accuracy 0.98\n"
          ],
          "name": "stdout"
        }
      ]
    },
    {
      "cell_type": "code",
      "metadata": {
        "id": "tCqTB0wOQSfI",
        "colab_type": "code",
        "colab": {}
      },
      "source": [
        "model_json = model.to_json()"
      ],
      "execution_count": 0,
      "outputs": []
    },
    {
      "cell_type": "code",
      "metadata": {
        "id": "wL0-sr7kQSfP",
        "colab_type": "code",
        "colab": {}
      },
      "source": [
        "from json_tricks import dumps\n",
        "weights = model.get_weights()\n",
        "json_weights = dumps(weights)"
      ],
      "execution_count": 0,
      "outputs": []
    },
    {
      "cell_type": "code",
      "metadata": {
        "id": "Av-58pU1QSfV",
        "colab_type": "code",
        "colab": {}
      },
      "source": [
        "model_params['json_weights'] = json_weights\n",
        "model_params['model_json'] = model_json"
      ],
      "execution_count": 0,
      "outputs": []
    },
    {
      "cell_type": "code",
      "metadata": {
        "id": "jsXEP3_SQSfZ",
        "colab_type": "code",
        "colab": {}
      },
      "source": [
        "  run_info = {\"dataset\" : ds_reg[\"_key\"],\\\n",
        "              \"featureset\": fs_reg[\"_key\"],\\\n",
        "              \"run_id\": str(ruuid),\\\n",
        "              \"model\": model_reg[\"_key\"],\\\n",
        "              \"model-params\": model_params,\\\n",
        "              \"model-perf\": model_perf,\\\n",
        "              \"pipeline\" : \"Handwriting-Analysis-Pipeline\",\\\n",
        "              \"tag\": \"MNIST_model_params_saved\",\\\n",
        "              \"project\": \"MNIST Handwriting Analysis\"}\n",
        "\n",
        "  ap.log_run(run_info)"
      ],
      "execution_count": 0,
      "outputs": []
    },
    {
      "cell_type": "markdown",
      "metadata": {
        "id": "qd2r83E8QSfe",
        "colab_type": "text"
      },
      "source": [
        "# Reusing the Previous Connection"
      ]
    },
    {
      "cell_type": "markdown",
      "metadata": {
        "id": "_DzkRtpOQSfg",
        "colab_type": "text"
      },
      "source": [
        "In a subsequent session you can reuse the connection you created previously using the snippet shown below. Note that you are not providing connection information during this interaction."
      ]
    },
    {
      "cell_type": "code",
      "metadata": {
        "id": "i9Ja0RzcQSfh",
        "colab_type": "code",
        "colab": {
          "base_uri": "https://localhost:8080/",
          "height": 52
        },
        "outputId": "305d75d7-d4df-4113-9709-0aceed013a1e"
      },
      "source": [
        "admin = ArangoPipeAdmin()  \n",
        "ap_config = admin.get_config()\n",
        "ap = ArangoPipe(config = ap_config)\n",
        "# Error indicating \"heart beat check was not found\" is expected."
      ],
      "execution_count": 15,
      "outputs": [
        {
          "output_type": "stream",
          "text": [
            "Host Connection: https://arangoml.arangodb.cloud:8529\n"
          ],
          "name": "stdout"
        },
        {
          "output_type": "stream",
          "text": [
            "2020-02-11 03:46:02,240 - arangopipe_logger - ERROR - The dataset by name: heart beat check was not found in Arangopipe!\n"
          ],
          "name": "stderr"
        }
      ]
    },
    {
      "cell_type": "markdown",
      "metadata": {
        "id": "kn9axmlWQSfl",
        "colab_type": "text"
      },
      "source": [
        "Look up the model you stored in the database with the previous connection"
      ]
    },
    {
      "cell_type": "code",
      "metadata": {
        "id": "vdExHTZdQSfn",
        "colab_type": "code",
        "colab": {
          "base_uri": "https://localhost:8080/",
          "height": 105
        },
        "outputId": "87362cc6-1fcc-4181-9378-6e213cbecd52"
      },
      "source": [
        "ap.lookup_model(\"Neural Network\")"
      ],
      "execution_count": 16,
      "outputs": [
        {
          "output_type": "execute_result",
          "data": {
            "text/plain": [
              "{'_id': 'models/24197844',\n",
              " '_key': '24197844',\n",
              " '_rev': '_aBHXqu---_',\n",
              " 'name': 'Neural Network',\n",
              " 'type': 'Neural network with Linear layer, ReLU activation, Dropout Layer (20%) and Softmax output layer'}"
            ]
          },
          "metadata": {
            "tags": []
          },
          "execution_count": 16
        }
      ]
    },
    {
      "cell_type": "markdown",
      "metadata": {
        "id": "V8Cai9VdQSft",
        "colab_type": "text"
      },
      "source": [
        "The image classifier is now trained to ~98% accuracy on this dataset. To learn more, read the [TensorFlow tutorials](https://www.tensorflow.org/tutorials/)."
      ]
    },
    {
      "cell_type": "markdown",
      "metadata": {
        "id": "Pm3SLZ9zQSfw",
        "colab_type": "text"
      },
      "source": [
        "## Recreate a model from persisted state"
      ]
    },
    {
      "cell_type": "code",
      "metadata": {
        "id": "F4VVq4ZBQSfx",
        "colab_type": "code",
        "colab": {}
      },
      "source": [
        "saved_model_params = ap.lookup_modelparams(tag_value = \"MNIST_model_params_saved\")"
      ],
      "execution_count": 0,
      "outputs": []
    },
    {
      "cell_type": "code",
      "metadata": {
        "id": "gO7DDaA4QSf2",
        "colab_type": "code",
        "colab": {}
      },
      "source": [
        "saved_model = saved_model_params['model_json']\n",
        "saved_model_weights = saved_model_params['json_weights']"
      ],
      "execution_count": 0,
      "outputs": []
    },
    {
      "cell_type": "code",
      "metadata": {
        "id": "WTnedNz7T7VE",
        "colab_type": "code",
        "colab": {
          "base_uri": "https://localhost:8080/",
          "height": 193
        },
        "outputId": "39161647-b40b-467b-a91d-acfcd4a576ed"
      },
      "source": [
        "mdb_config.cfg"
      ],
      "execution_count": 19,
      "outputs": [
        {
          "output_type": "execute_result",
          "data": {
            "text/plain": [
              "{'arangodb': {'DB_end_point': 'createDB',\n",
              "  'DB_service_host': 'arangoml.arangodb.cloud',\n",
              "  'DB_service_name': 'createDB',\n",
              "  'DB_service_port': 8529,\n",
              "  'arangodb_replication_factor': None,\n",
              "  'conn_protocol': 'https',\n",
              "  'dbName': 'MLbf8etjaazjsu1qnxe9l3up',\n",
              "  'password': 'MLjgp36v1c81j05j13e80s8p',\n",
              "  'username': 'MLvcjvb1zt4mlxadu6iqfv'},\n",
              " 'mlgraph': {'graphname': 'enterprise_ml_graph'}}"
            ]
          },
          "metadata": {
            "tags": []
          },
          "execution_count": 19
        }
      ]
    },
    {
      "cell_type": "code",
      "metadata": {
        "id": "NoMwgqjGQSf6",
        "colab_type": "code",
        "colab": {}
      },
      "source": [
        "from json_tricks import loads\n",
        "remat_weight = loads(saved_model_weights)\n",
        "reinitialized_model = tf.keras.models.model_from_json(saved_model)\n",
        "reinitialized_model.set_weights(remat_weight)\n"
      ],
      "execution_count": 0,
      "outputs": []
    },
    {
      "cell_type": "markdown",
      "metadata": {
        "id": "MYsNWbDIQSf-",
        "colab_type": "text"
      },
      "source": [
        "## Compare the predictions of the old and new model"
      ]
    },
    {
      "cell_type": "code",
      "metadata": {
        "id": "BChwKyOIQSgA",
        "colab_type": "code",
        "colab": {}
      },
      "source": [
        "new_predictions = reinitialized_model.predict(x_test)\n",
        "old_predictions = model.predict(x_test)"
      ],
      "execution_count": 0,
      "outputs": []
    },
    {
      "cell_type": "code",
      "metadata": {
        "id": "DRuZNpkvQSgE",
        "colab_type": "code",
        "colab": {
          "base_uri": "https://localhost:8080/",
          "height": 34
        },
        "outputId": "13084fe4-08e8-4fd5-b565-1e14e8b8d160"
      },
      "source": [
        "import numpy as np\n",
        "np.array_equal(new_predictions, old_predictions)"
      ],
      "execution_count": 22,
      "outputs": [
        {
          "output_type": "execute_result",
          "data": {
            "text/plain": [
              "True"
            ]
          },
          "metadata": {
            "tags": []
          },
          "execution_count": 22
        }
      ]
    },
    {
      "cell_type": "code",
      "metadata": {
        "id": "voCP3czmQSgJ",
        "colab_type": "code",
        "colab": {}
      },
      "source": [
        ""
      ],
      "execution_count": 0,
      "outputs": []
    }
  ]
}