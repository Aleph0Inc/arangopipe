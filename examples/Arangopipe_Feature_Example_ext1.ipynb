{
  "nbformat": 4,
  "nbformat_minor": 0,
  "metadata": {
    "colab": {
      "name": "Arangopipe_Feature_Example_ext1.ipynb",
      "provenance": [],
      "collapsed_sections": [],
      "authorship_tag": "ABX9TyNGKRMDx7oGQppvSoEiEB5U",
      "include_colab_link": true
    },
    "kernelspec": {
      "name": "python3",
      "display_name": "Python 3"
    }
  },
  "cells": [
    {
      "cell_type": "markdown",
      "metadata": {
        "id": "view-in-github",
        "colab_type": "text"
      },
      "source": [
        "<a href=\"https://colab.research.google.com/github/arangoml/arangopipe/blob/409_and_env_externalization/examples/Arangopipe_Feature_Example_ext1.ipynb\" target=\"_parent\"><img src=\"https://colab.research.google.com/assets/colab-badge.svg\" alt=\"Open In Colab\"/></a>"
      ]
    },
    {
      "cell_type": "markdown",
      "metadata": {
        "id": "8__IrkNPI0H5",
        "colab_type": "text"
      },
      "source": [
        "# Installation Pre-requisites"
      ]
    },
    {
      "cell_type": "code",
      "metadata": {
        "id": "G7Qola3PM8Wc",
        "colab_type": "code",
        "outputId": "49036bea-d600-4c49-dc4f-fae52fa30e22",
        "colab": {
          "base_uri": "https://localhost:8080/",
          "height": 1000
        }
      },
      "source": [
        "!pip install python-arango\n",
        "!pip install -i https://test.pypi.org/simple/ arangopipe\n",
        "!pip install pandas PyYAML==5.1.1 sklearn2\n",
        "!pip install jsonpickle\n",
        "!pip install seaborn\n",
        "!pip install dtreeviz\n"
      ],
      "execution_count": 0,
      "outputs": [
        {
          "output_type": "stream",
          "text": [
            "Collecting python-arango\n",
            "\u001b[?25l  Downloading https://files.pythonhosted.org/packages/f9/c3/1f8445ffc2505997da53ad5ce5e9f40875d561623d6bc84c259879e5cbcc/python-arango-5.2.1.tar.gz (78kB)\n",
            "\r\u001b[K     |████▏                           | 10kB 18.1MB/s eta 0:00:01\r\u001b[K     |████████▍                       | 20kB 1.8MB/s eta 0:00:01\r\u001b[K     |████████████▌                   | 30kB 2.6MB/s eta 0:00:01\r\u001b[K     |████████████████▊               | 40kB 1.7MB/s eta 0:00:01\r\u001b[K     |████████████████████▉           | 51kB 2.1MB/s eta 0:00:01\r\u001b[K     |█████████████████████████       | 61kB 2.5MB/s eta 0:00:01\r\u001b[K     |█████████████████████████████▏  | 71kB 2.9MB/s eta 0:00:01\r\u001b[K     |████████████████████████████████| 81kB 2.6MB/s \n",
            "\u001b[?25hRequirement already satisfied: requests in /usr/local/lib/python3.6/dist-packages (from python-arango) (2.21.0)\n",
            "Requirement already satisfied: six in /usr/local/lib/python3.6/dist-packages (from python-arango) (1.12.0)\n",
            "Requirement already satisfied: chardet<3.1.0,>=3.0.2 in /usr/local/lib/python3.6/dist-packages (from requests->python-arango) (3.0.4)\n",
            "Requirement already satisfied: idna<2.9,>=2.5 in /usr/local/lib/python3.6/dist-packages (from requests->python-arango) (2.8)\n",
            "Requirement already satisfied: certifi>=2017.4.17 in /usr/local/lib/python3.6/dist-packages (from requests->python-arango) (2019.11.28)\n",
            "Requirement already satisfied: urllib3<1.25,>=1.21.1 in /usr/local/lib/python3.6/dist-packages (from requests->python-arango) (1.24.3)\n",
            "Building wheels for collected packages: python-arango\n",
            "  Building wheel for python-arango (setup.py) ... \u001b[?25l\u001b[?25hdone\n",
            "  Created wheel for python-arango: filename=python_arango-5.2.1-py2.py3-none-any.whl size=86479 sha256=0187663ac07a7d253fe403fa3d0df998c6d191236129aa62ce12cc65a9016140\n",
            "  Stored in directory: /root/.cache/pip/wheels/31/30/00/ef5ee59a25096d89fbb9e2526877f74c189eb6db50bbef9474\n",
            "Successfully built python-arango\n",
            "Installing collected packages: python-arango\n",
            "Successfully installed python-arango-5.2.1\n",
            "Looking in indexes: https://test.pypi.org/simple/\n",
            "Collecting arangopipe\n",
            "  Downloading https://test-files.pythonhosted.org/packages/65/5c/f3cd4fc7c7d04a6218f248fbf37bd83c731980a35765ddea7872ae4f936a/arangopipe-0.0.6.8-py3-none-any.whl\n",
            "Installing collected packages: arangopipe\n",
            "Successfully installed arangopipe-0.0.6.8\n",
            "Requirement already satisfied: pandas in /usr/local/lib/python3.6/dist-packages (0.25.3)\n",
            "Collecting PyYAML==5.1.1\n",
            "\u001b[?25l  Downloading https://files.pythonhosted.org/packages/a3/65/837fefac7475963d1eccf4aa684c23b95aa6c1d033a2c5965ccb11e22623/PyYAML-5.1.1.tar.gz (274kB)\n",
            "\u001b[K     |████████████████████████████████| 276kB 2.7MB/s \n",
            "\u001b[?25hCollecting sklearn2\n",
            "  Downloading https://files.pythonhosted.org/packages/4d/b3/1d0d7e771b96212fa19013726b123a209e1dc109e2802bd99b2576bf74ed/sklearn2-0.0.13-py2.py3-none-any.whl\n",
            "Requirement already satisfied: python-dateutil>=2.6.1 in /usr/local/lib/python3.6/dist-packages (from pandas) (2.6.1)\n",
            "Requirement already satisfied: numpy>=1.13.3 in /usr/local/lib/python3.6/dist-packages (from pandas) (1.17.5)\n",
            "Requirement already satisfied: pytz>=2017.2 in /usr/local/lib/python3.6/dist-packages (from pandas) (2018.9)\n",
            "Requirement already satisfied: pydot in /usr/local/lib/python3.6/dist-packages (from sklearn2) (1.3.0)\n",
            "Requirement already satisfied: patsy in /usr/local/lib/python3.6/dist-packages (from sklearn2) (0.5.1)\n",
            "Requirement already satisfied: pytest in /usr/local/lib/python3.6/dist-packages (from sklearn2) (3.6.4)\n",
            "Requirement already satisfied: statsmodels in /usr/local/lib/python3.6/dist-packages (from sklearn2) (0.10.2)\n",
            "Requirement already satisfied: scikit-learn>=0.18 in /usr/local/lib/python3.6/dist-packages (from sklearn2) (0.22.1)\n",
            "Collecting category-encoders\n",
            "\u001b[?25l  Downloading https://files.pythonhosted.org/packages/a0/52/c54191ad3782de633ea3d6ee3bb2837bda0cf3bc97644bb6375cf14150a0/category_encoders-2.1.0-py2.py3-none-any.whl (100kB)\n",
            "\u001b[K     |████████████████████████████████| 102kB 10.9MB/s \n",
            "\u001b[?25hRequirement already satisfied: matplotlib>=1.5.1 in /usr/local/lib/python3.6/dist-packages (from sklearn2) (3.1.3)\n",
            "Requirement already satisfied: six>=1.5 in /usr/local/lib/python3.6/dist-packages (from python-dateutil>=2.6.1->pandas) (1.12.0)\n",
            "Requirement already satisfied: pyparsing>=2.1.4 in /usr/local/lib/python3.6/dist-packages (from pydot->sklearn2) (2.4.6)\n",
            "Requirement already satisfied: more-itertools>=4.0.0 in /usr/local/lib/python3.6/dist-packages (from pytest->sklearn2) (8.2.0)\n",
            "Requirement already satisfied: setuptools in /usr/local/lib/python3.6/dist-packages (from pytest->sklearn2) (45.1.0)\n",
            "Requirement already satisfied: atomicwrites>=1.0 in /usr/local/lib/python3.6/dist-packages (from pytest->sklearn2) (1.3.0)\n",
            "Requirement already satisfied: pluggy<0.8,>=0.5 in /usr/local/lib/python3.6/dist-packages (from pytest->sklearn2) (0.7.1)\n",
            "Requirement already satisfied: py>=1.5.0 in /usr/local/lib/python3.6/dist-packages (from pytest->sklearn2) (1.8.1)\n",
            "Requirement already satisfied: attrs>=17.4.0 in /usr/local/lib/python3.6/dist-packages (from pytest->sklearn2) (19.3.0)\n",
            "Requirement already satisfied: scipy>=0.18 in /usr/local/lib/python3.6/dist-packages (from statsmodels->sklearn2) (1.4.1)\n",
            "Requirement already satisfied: joblib>=0.11 in /usr/local/lib/python3.6/dist-packages (from scikit-learn>=0.18->sklearn2) (0.14.1)\n",
            "Requirement already satisfied: kiwisolver>=1.0.1 in /usr/local/lib/python3.6/dist-packages (from matplotlib>=1.5.1->sklearn2) (1.1.0)\n",
            "Requirement already satisfied: cycler>=0.10 in /usr/local/lib/python3.6/dist-packages (from matplotlib>=1.5.1->sklearn2) (0.10.0)\n",
            "Building wheels for collected packages: PyYAML\n",
            "  Building wheel for PyYAML (setup.py) ... \u001b[?25l\u001b[?25hdone\n",
            "  Created wheel for PyYAML: filename=PyYAML-5.1.1-cp36-cp36m-linux_x86_64.whl size=44099 sha256=b31d063517c80a5bf901fc2f3cd41f80fa905021858fb8cb7ba684a41e7f856c\n",
            "  Stored in directory: /root/.cache/pip/wheels/16/27/a1/775c62ddea7bfa62324fd1f65847ed31c55dadb6051481ba3f\n",
            "Successfully built PyYAML\n",
            "Installing collected packages: PyYAML, category-encoders, sklearn2\n",
            "  Found existing installation: PyYAML 3.13\n",
            "    Uninstalling PyYAML-3.13:\n",
            "      Successfully uninstalled PyYAML-3.13\n",
            "Successfully installed PyYAML-5.1.1 category-encoders-2.1.0 sklearn2-0.0.13\n",
            "Collecting jsonpickle\n",
            "  Downloading https://files.pythonhosted.org/packages/07/07/c157520a3ebd166c8c24c6ae0ecae7c3968eb4653ff0e5af369bb82f004d/jsonpickle-1.2-py2.py3-none-any.whl\n",
            "Installing collected packages: jsonpickle\n",
            "Successfully installed jsonpickle-1.2\n",
            "Requirement already satisfied: seaborn in /usr/local/lib/python3.6/dist-packages (0.10.0)\n",
            "Requirement already satisfied: scipy>=1.0.1 in /usr/local/lib/python3.6/dist-packages (from seaborn) (1.4.1)\n",
            "Requirement already satisfied: numpy>=1.13.3 in /usr/local/lib/python3.6/dist-packages (from seaborn) (1.17.5)\n",
            "Requirement already satisfied: pandas>=0.22.0 in /usr/local/lib/python3.6/dist-packages (from seaborn) (0.25.3)\n",
            "Requirement already satisfied: matplotlib>=2.1.2 in /usr/local/lib/python3.6/dist-packages (from seaborn) (3.1.3)\n",
            "Requirement already satisfied: python-dateutil>=2.6.1 in /usr/local/lib/python3.6/dist-packages (from pandas>=0.22.0->seaborn) (2.6.1)\n",
            "Requirement already satisfied: pytz>=2017.2 in /usr/local/lib/python3.6/dist-packages (from pandas>=0.22.0->seaborn) (2018.9)\n",
            "Requirement already satisfied: pyparsing!=2.0.4,!=2.1.2,!=2.1.6,>=2.0.1 in /usr/local/lib/python3.6/dist-packages (from matplotlib>=2.1.2->seaborn) (2.4.6)\n",
            "Requirement already satisfied: kiwisolver>=1.0.1 in /usr/local/lib/python3.6/dist-packages (from matplotlib>=2.1.2->seaborn) (1.1.0)\n",
            "Requirement already satisfied: cycler>=0.10 in /usr/local/lib/python3.6/dist-packages (from matplotlib>=2.1.2->seaborn) (0.10.0)\n",
            "Requirement already satisfied: six>=1.5 in /usr/local/lib/python3.6/dist-packages (from python-dateutil>=2.6.1->pandas>=0.22.0->seaborn) (1.12.0)\n",
            "Requirement already satisfied: setuptools in /usr/local/lib/python3.6/dist-packages (from kiwisolver>=1.0.1->matplotlib>=2.1.2->seaborn) (45.1.0)\n",
            "Collecting dtreeviz\n",
            "  Downloading https://files.pythonhosted.org/packages/6d/b3/960d6b83bd87b0e5d5f109a00dd25a3b3d6ecd8f6cf5a53fc0e080f23af5/dtreeviz-0.8.1.tar.gz\n",
            "Requirement already satisfied: graphviz>=0.9 in /usr/local/lib/python3.6/dist-packages (from dtreeviz) (0.10.1)\n",
            "Requirement already satisfied: pandas in /usr/local/lib/python3.6/dist-packages (from dtreeviz) (0.25.3)\n",
            "Requirement already satisfied: numpy in /usr/local/lib/python3.6/dist-packages (from dtreeviz) (1.17.5)\n",
            "Requirement already satisfied: scikit-learn in /usr/local/lib/python3.6/dist-packages (from dtreeviz) (0.22.1)\n",
            "Requirement already satisfied: matplotlib in /usr/local/lib/python3.6/dist-packages (from dtreeviz) (3.1.3)\n",
            "Collecting colour\n",
            "  Downloading https://files.pythonhosted.org/packages/74/46/e81907704ab203206769dee1385dc77e1407576ff8f50a0681d0a6b541be/colour-0.1.5-py2.py3-none-any.whl\n",
            "Requirement already satisfied: pytz>=2017.2 in /usr/local/lib/python3.6/dist-packages (from pandas->dtreeviz) (2018.9)\n",
            "Requirement already satisfied: python-dateutil>=2.6.1 in /usr/local/lib/python3.6/dist-packages (from pandas->dtreeviz) (2.6.1)\n",
            "Requirement already satisfied: scipy>=0.17.0 in /usr/local/lib/python3.6/dist-packages (from scikit-learn->dtreeviz) (1.4.1)\n",
            "Requirement already satisfied: joblib>=0.11 in /usr/local/lib/python3.6/dist-packages (from scikit-learn->dtreeviz) (0.14.1)\n",
            "Requirement already satisfied: kiwisolver>=1.0.1 in /usr/local/lib/python3.6/dist-packages (from matplotlib->dtreeviz) (1.1.0)\n",
            "Requirement already satisfied: cycler>=0.10 in /usr/local/lib/python3.6/dist-packages (from matplotlib->dtreeviz) (0.10.0)\n",
            "Requirement already satisfied: pyparsing!=2.0.4,!=2.1.2,!=2.1.6,>=2.0.1 in /usr/local/lib/python3.6/dist-packages (from matplotlib->dtreeviz) (2.4.6)\n",
            "Requirement already satisfied: six>=1.5 in /usr/local/lib/python3.6/dist-packages (from python-dateutil>=2.6.1->pandas->dtreeviz) (1.12.0)\n",
            "Requirement already satisfied: setuptools in /usr/local/lib/python3.6/dist-packages (from kiwisolver>=1.0.1->matplotlib->dtreeviz) (45.1.0)\n",
            "Building wheels for collected packages: dtreeviz\n",
            "  Building wheel for dtreeviz (setup.py) ... \u001b[?25l\u001b[?25hdone\n",
            "  Created wheel for dtreeviz: filename=dtreeviz-0.8.1-cp36-none-any.whl size=21790 sha256=fc8e1e620b882515160331b02bad31573bacf8654c701c2f710dbeaffabf66dc\n",
            "  Stored in directory: /root/.cache/pip/wheels/d8/74/06/0d9d450156c7cb2f1fcfb51a55b1542d26f459f557d742c406\n",
            "Successfully built dtreeviz\n",
            "Installing collected packages: colour, dtreeviz\n",
            "Successfully installed colour-0.1.5 dtreeviz-0.8.1\n"
          ],
          "name": "stdout"
        }
      ]
    },
    {
      "cell_type": "code",
      "metadata": {
        "id": "wxzkZaquN2qt",
        "colab_type": "code",
        "outputId": "52e32eb6-fa4a-4e14-928a-aaa2c512d0bc",
        "colab": {
          "base_uri": "https://localhost:8080/",
          "height": 195
        }
      },
      "source": [
        "import pandas as pd\n",
        "import numpy as np\n",
        "data_url = \"https://raw.githubusercontent.com/arangoml/arangopipe/arangopipe_examples/examples/data/cal_housing.csv\"\n",
        "df = pd.read_csv(data_url, error_bad_lines=False)\n",
        "df.head()"
      ],
      "execution_count": 0,
      "outputs": [
        {
          "output_type": "execute_result",
          "data": {
            "text/html": [
              "<div>\n",
              "<style scoped>\n",
              "    .dataframe tbody tr th:only-of-type {\n",
              "        vertical-align: middle;\n",
              "    }\n",
              "\n",
              "    .dataframe tbody tr th {\n",
              "        vertical-align: top;\n",
              "    }\n",
              "\n",
              "    .dataframe thead th {\n",
              "        text-align: right;\n",
              "    }\n",
              "</style>\n",
              "<table border=\"1\" class=\"dataframe\">\n",
              "  <thead>\n",
              "    <tr style=\"text-align: right;\">\n",
              "      <th></th>\n",
              "      <th>lat</th>\n",
              "      <th>long</th>\n",
              "      <th>housingMedAge</th>\n",
              "      <th>totalRooms</th>\n",
              "      <th>totalBedrooms</th>\n",
              "      <th>population</th>\n",
              "      <th>households</th>\n",
              "      <th>medianIncome</th>\n",
              "      <th>medianHouseValue</th>\n",
              "    </tr>\n",
              "  </thead>\n",
              "  <tbody>\n",
              "    <tr>\n",
              "      <th>0</th>\n",
              "      <td>-122.22</td>\n",
              "      <td>37.86</td>\n",
              "      <td>21</td>\n",
              "      <td>7099</td>\n",
              "      <td>1106</td>\n",
              "      <td>2401</td>\n",
              "      <td>1138</td>\n",
              "      <td>8.3014</td>\n",
              "      <td>358500.0</td>\n",
              "    </tr>\n",
              "    <tr>\n",
              "      <th>1</th>\n",
              "      <td>-122.24</td>\n",
              "      <td>37.85</td>\n",
              "      <td>52</td>\n",
              "      <td>1467</td>\n",
              "      <td>190</td>\n",
              "      <td>496</td>\n",
              "      <td>177</td>\n",
              "      <td>7.2574</td>\n",
              "      <td>352100.0</td>\n",
              "    </tr>\n",
              "    <tr>\n",
              "      <th>2</th>\n",
              "      <td>-122.25</td>\n",
              "      <td>37.85</td>\n",
              "      <td>52</td>\n",
              "      <td>1274</td>\n",
              "      <td>235</td>\n",
              "      <td>558</td>\n",
              "      <td>219</td>\n",
              "      <td>5.6431</td>\n",
              "      <td>341300.0</td>\n",
              "    </tr>\n",
              "    <tr>\n",
              "      <th>3</th>\n",
              "      <td>-122.25</td>\n",
              "      <td>37.85</td>\n",
              "      <td>52</td>\n",
              "      <td>1627</td>\n",
              "      <td>280</td>\n",
              "      <td>565</td>\n",
              "      <td>259</td>\n",
              "      <td>3.8462</td>\n",
              "      <td>342200.0</td>\n",
              "    </tr>\n",
              "    <tr>\n",
              "      <th>4</th>\n",
              "      <td>-122.25</td>\n",
              "      <td>37.85</td>\n",
              "      <td>52</td>\n",
              "      <td>919</td>\n",
              "      <td>213</td>\n",
              "      <td>413</td>\n",
              "      <td>193</td>\n",
              "      <td>4.0368</td>\n",
              "      <td>269700.0</td>\n",
              "    </tr>\n",
              "  </tbody>\n",
              "</table>\n",
              "</div>"
            ],
            "text/plain": [
              "      lat   long  housingMedAge  ...  households  medianIncome  medianHouseValue\n",
              "0 -122.22  37.86             21  ...        1138        8.3014          358500.0\n",
              "1 -122.24  37.85             52  ...         177        7.2574          352100.0\n",
              "2 -122.25  37.85             52  ...         219        5.6431          341300.0\n",
              "3 -122.25  37.85             52  ...         259        3.8462          342200.0\n",
              "4 -122.25  37.85             52  ...         193        4.0368          269700.0\n",
              "\n",
              "[5 rows x 9 columns]"
            ]
          },
          "metadata": {
            "tags": []
          },
          "execution_count": 2
        }
      ]
    },
    {
      "cell_type": "markdown",
      "metadata": {
        "id": "cQJnko9QI8Lb",
        "colab_type": "text"
      },
      "source": [
        "# Bias Variance Decompostion of Model Estimates"
      ]
    },
    {
      "cell_type": "markdown",
      "metadata": {
        "id": "CFzFKoNrJFlf",
        "colab_type": "text"
      },
      "source": [
        "Bootstrapping is used to estimate the bias of the regression model developed earlier. The bias tells us if the model suffers from systematically overestimating or underestimating at certain regions of the dataset. To illustrate the procedure, a sample of the dataset is used. It just takes longer to run the procedure on the full dataset. For details of the theory, please see:\n",
        "\n",
        "\n",
        "1. [Section 2.2, Cosma Shalizi](https://www.stat.cmu.edu/~cshalizi/402/lectures/08-bootstrap/lecture-08.pdf)\n",
        "2. [Tom Dietrich's lecture notes](https://web.engr.oregonstate.edu/~tgd/classes/534/slides/part9.pdf)\n"
      ]
    },
    {
      "cell_type": "code",
      "metadata": {
        "id": "TyI038DhODb3",
        "colab_type": "code",
        "outputId": "7b771053-0ad9-403c-95a2-196aa4a61d82",
        "colab": {
          "base_uri": "https://localhost:8080/",
          "height": 193
        }
      },
      "source": [
        "from sklearn import linear_model\n",
        "df['medianHouseValue'] = df['medianHouseValue'].apply(np.log)\n",
        "preds = df.columns.tolist()\n",
        "preds.remove('medianHouseValue')\n",
        "SAMPLE_SIZE = 1000\n",
        "df = df.sample(n = SAMPLE_SIZE)\n",
        "df = df.reset_index()\n",
        "\n",
        "NUM_BOOTSTRAPS = 30\n",
        "BOOTSTRAP_SAMPLE_SIZE =  df.shape[0] - 1\n",
        "bootstrap_Yest = {i : list() for i in range(df.shape[0])}\n",
        "for index in range(df.shape[0]):\n",
        "    for bootrap_iteration in range(NUM_BOOTSTRAPS):\n",
        "        dfi = df.iloc[index, :]\n",
        "        dfb = df.sample(n = BOOTSTRAP_SAMPLE_SIZE, replace=True)\n",
        "        dfb = dfb.append(dfi)\n",
        "        X = dfb[preds].values\n",
        "        Y = dfb['medianHouseValue']\n",
        "\n",
        "        clf = linear_model.Lasso(alpha=0.001, max_iter = 10000)\n",
        "        clf.fit(X, Y)\n",
        "        est_point = X[index, :].reshape(1, -1)\n",
        "        est_at_index = clf.predict(est_point)\n",
        "        bootstrap_Yest[index].append(est_at_index)\n",
        "        \n",
        "    if index % 100 == 0:\n",
        "        print('Completed estimating %4d points in the dataset' % (index))"
      ],
      "execution_count": 0,
      "outputs": [
        {
          "output_type": "stream",
          "text": [
            "Completed estimating    0 points in the dataset\n",
            "Completed estimating  100 points in the dataset\n",
            "Completed estimating  200 points in the dataset\n",
            "Completed estimating  300 points in the dataset\n",
            "Completed estimating  400 points in the dataset\n",
            "Completed estimating  500 points in the dataset\n",
            "Completed estimating  600 points in the dataset\n",
            "Completed estimating  700 points in the dataset\n",
            "Completed estimating  800 points in the dataset\n",
            "Completed estimating  900 points in the dataset\n"
          ],
          "name": "stdout"
        }
      ]
    },
    {
      "cell_type": "code",
      "metadata": {
        "id": "kq7u35XjhlCp",
        "colab_type": "code",
        "colab": {}
      },
      "source": [
        "Xm = df[preds].values\n",
        "Ym = df['medianHouseValue'].values\n",
        "clf_0 = linear_model.Lasso(alpha=0.001, max_iter = 10000)\n",
        "clf_0.fit(Xm, Ym)\n",
        "Yhat_m = clf_0.predict(Xm)"
      ],
      "execution_count": 0,
      "outputs": []
    },
    {
      "cell_type": "markdown",
      "metadata": {
        "id": "OWrHR2vVK750",
        "colab_type": "text"
      },
      "source": [
        "## Estimating the Bias at each point in the dataset\n"
      ]
    },
    {
      "cell_type": "code",
      "metadata": {
        "id": "0PQceC7eO_7t",
        "colab_type": "code",
        "colab": {}
      },
      "source": [
        "# see section 2.2 from https://www.stat.cmu.edu/~cshalizi/402/lectures/08-bootstrap/lecture-08.pdf\n",
        "# see https://web.engr.oregonstate.edu/~tgd/classes/534/slides/part9.pdf\n",
        "Expval_at_i = { i : np.mean(np.array(bootstrap_Yest[i])) for i in range(df.shape[0])}\n",
        "bias_at_i = {i : Expval_at_i[i] - Yhat_m[i] for i in range(df.shape[0])}\n"
      ],
      "execution_count": 0,
      "outputs": []
    },
    {
      "cell_type": "markdown",
      "metadata": {
        "id": "S8jmZf8gLHjF",
        "colab_type": "text"
      },
      "source": [
        "## Analysis of the Bias"
      ]
    },
    {
      "cell_type": "code",
      "metadata": {
        "id": "9ZGS02HXjj44",
        "colab_type": "code",
        "outputId": "2a38aaab-1964-40b2-d6dd-8fc16ce4398f",
        "colab": {
          "base_uri": "https://localhost:8080/",
          "height": 265
        }
      },
      "source": [
        "import matplotlib.pyplot as plt\n",
        "%matplotlib inline\n",
        "\n",
        "import seaborn as sns\n",
        "bias_values = [bias for (pt, bias) in bias_at_i.items()]\n",
        "sns.kdeplot(bias_values)\n",
        "plt.grid(True)"
      ],
      "execution_count": 0,
      "outputs": [
        {
          "output_type": "display_data",
          "data": {
            "image/png": "[encoded data removed]",
            "text/plain": [
              "<Figure size 432x288 with 1 Axes>"
            ]
          },
          "metadata": {
            "tags": []
          }
        }
      ]
    },
    {
      "cell_type": "markdown",
      "metadata": {
        "id": "kY2y2J4LLQkD",
        "colab_type": "text"
      },
      "source": [
        "Examine a Kernel Density plot of the bias to see the range of values. \n",
        "\n",
        "Note:\n",
        "The response is log transformed, so the bias must be exponeniated to get the real difference from the true value"
      ]
    },
    {
      "cell_type": "code",
      "metadata": {
        "id": "pKSSPmaI6CL1",
        "colab_type": "code",
        "outputId": "a6084dbe-579b-4e8b-fb56-cee61740d8d4",
        "colab": {
          "base_uri": "https://localhost:8080/",
          "height": 34
        }
      },
      "source": [
        "from sklearn.cluster import KMeans\n",
        "cluster_labels = KMeans(n_clusters=5, random_state=0).fit_predict(Xm)\n",
        "cluster_labels.shape"
      ],
      "execution_count": 0,
      "outputs": [
        {
          "output_type": "execute_result",
          "data": {
            "text/plain": [
              "(1000,)"
            ]
          },
          "metadata": {
            "tags": []
          },
          "execution_count": 9
        }
      ]
    },
    {
      "cell_type": "markdown",
      "metadata": {
        "id": "pzkvJCdEL6JP",
        "colab_type": "text"
      },
      "source": [
        "To see where the model is making mistakes, we cluster the (sample of the) dataset and compute the average bias for each cluster. This provides insights into regions of the data space we are doing well (bias close to zero) and regions where we are not doing well. The table below shows the mean cluster bias and the size of the cluster. We see two large clusters where the bias is close to zero (cluster 0 and cluster 1). We see one outlier with a large error (cluster 3). Clusters 1 and 4 are also seem like outliers and need further analysis. This exercise illustrates how we can examine our model's characteristics. We can now link this model analysis activity to our project using Arangopipe.  "
      ]
    },
    {
      "cell_type": "code",
      "metadata": {
        "colab_type": "code",
        "outputId": "205822f7-cbf1-4e51-8a82-8ffccc9e84fe",
        "id": "2Yt496frFLR_",
        "colab": {
          "base_uri": "https://localhost:8080/",
          "height": 225
        }
      },
      "source": [
        "df_bias = pd.DataFrame(Xm)\n",
        "df_bias['cluster'] = cluster_labels\n",
        "df_bias['bias'] = bias_values\n",
        "df_bias.groupby('cluster')['bias'].agg([np.mean, np.size])"
      ],
      "execution_count": 0,
      "outputs": [
        {
          "output_type": "execute_result",
          "data": {
            "text/html": [
              "<div>\n",
              "<style scoped>\n",
              "    .dataframe tbody tr th:only-of-type {\n",
              "        vertical-align: middle;\n",
              "    }\n",
              "\n",
              "    .dataframe tbody tr th {\n",
              "        vertical-align: top;\n",
              "    }\n",
              "\n",
              "    .dataframe thead th {\n",
              "        text-align: right;\n",
              "    }\n",
              "</style>\n",
              "<table border=\"1\" class=\"dataframe\">\n",
              "  <thead>\n",
              "    <tr style=\"text-align: right;\">\n",
              "      <th></th>\n",
              "      <th>mean</th>\n",
              "      <th>size</th>\n",
              "    </tr>\n",
              "    <tr>\n",
              "      <th>cluster</th>\n",
              "      <th></th>\n",
              "      <th></th>\n",
              "    </tr>\n",
              "  </thead>\n",
              "  <tbody>\n",
              "    <tr>\n",
              "      <th>0</th>\n",
              "      <td>0.081051</td>\n",
              "      <td>413.0</td>\n",
              "    </tr>\n",
              "    <tr>\n",
              "      <th>1</th>\n",
              "      <td>-0.087126</td>\n",
              "      <td>143.0</td>\n",
              "    </tr>\n",
              "    <tr>\n",
              "      <th>2</th>\n",
              "      <td>-0.026138</td>\n",
              "      <td>394.0</td>\n",
              "    </tr>\n",
              "    <tr>\n",
              "      <th>3</th>\n",
              "      <td>-0.265057</td>\n",
              "      <td>9.0</td>\n",
              "    </tr>\n",
              "    <tr>\n",
              "      <th>4</th>\n",
              "      <td>-0.150452</td>\n",
              "      <td>41.0</td>\n",
              "    </tr>\n",
              "  </tbody>\n",
              "</table>\n",
              "</div>"
            ],
            "text/plain": [
              "             mean   size\n",
              "cluster                 \n",
              "0        0.081051  413.0\n",
              "1       -0.087126  143.0\n",
              "2       -0.026138  394.0\n",
              "3       -0.265057    9.0\n",
              "4       -0.150452   41.0"
            ]
          },
          "metadata": {
            "tags": []
          },
          "execution_count": 10
        }
      ]
    },
    {
      "cell_type": "code",
      "metadata": {
        "id": "zbnvue6O2vGK",
        "colab_type": "code",
        "outputId": "ff829387-3498-44c4-af35-526887f503a5",
        "colab": {
          "base_uri": "https://localhost:8080/",
          "height": 125
        }
      },
      "source": [
        "from arangopipe.arangopipe_storage.arangopipe_api import ArangoPipe\n",
        "from arangopipe.arangopipe_storage.arangopipe_admin_api import ArangoPipeAdmin\n",
        "from arangopipe.arangopipe_storage.arangopipe_config import ArangoPipeConfig\n",
        "from arangopipe.arangopipe_storage.managed_service_conn_parameters import ManagedServiceConnParam\n",
        "mdb_config = ArangoPipeConfig()\n",
        "msc = ManagedServiceConnParam()\n",
        "conn_params = { msc.DB_SERVICE_HOST : \"arangoml.arangodb.cloud\", \\\n",
        "                        msc.DB_SERVICE_END_POINT : \"createDB\",\\\n",
        "                        msc.DB_SERVICE_NAME : \"createDB\",\\\n",
        "                        msc.DB_SERVICE_PORT : 8529,\\\n",
        "                        msc.DB_CONN_PROTOCOL : 'https'}\n",
        "        \n",
        "mdb_config = mdb_config.create_connection_config(conn_params)\n",
        "admin = ArangoPipeAdmin(reuse_connection = False, config = mdb_config)\n",
        "ap_config = admin.get_config()\n",
        "ap = ArangoPipe(config = ap_config)\n",
        "proj_info = {\"name\": \"Housing_Price_Estimation_Project\"}\n",
        "proj_reg = admin.register_project(proj_info)\n",
        "ds_info = {\"name\" : \"california-housing-dataset\",\\\n",
        "            \"description\": \"This dataset lists median house prices in Califoria. Various house features are provided\",\\\n",
        "           \"source\": \"UCI ML Repository\" }\n",
        "ds_reg = ap.register_dataset(ds_info)\n",
        "import numpy as np\n",
        "df[\"medianHouseValue\"] = df[\"medianHouseValue\"].apply(lambda x: np.log(x))\n",
        "featureset = df.dtypes.to_dict()\n",
        "featureset = {k:str(featureset[k]) for k in featureset}\n",
        "featureset[\"name\"] = \"log_transformed_median_house_value\"\n",
        "fs_reg = ap.register_featureset(featureset, ds_reg[\"_key\"]) #\n",
        "model_info = {\"name\": \"Bias Variance Analysis of LASSO model\",  \"task\": \"Model Validation\"}\n",
        "model_reg = ap.register_model(model_info, project = \"Housing_Price_Estimation_Project\")\n",
        "import uuid\n",
        "import datetime\n",
        "import jsonpickle\n",
        "\n",
        "ruuid = str(uuid.uuid4().int)\n",
        "model_perf = {'model_bias': bias_at_i, 'run_id': ruuid, \"timestamp\": str(datetime.datetime.now())}\n",
        "\n",
        "mp = clf.get_params()\n",
        "mp = jsonpickle.encode(mp)\n",
        "model_params = {'run_id': ruuid, 'model_params': mp}\n",
        "\n",
        "run_info = {\"dataset\" : ds_reg[\"_key\"],\\\n",
        "                    \"featureset\": fs_reg[\"_key\"],\\\n",
        "                    \"run_id\": ruuid,\\\n",
        "                    \"model\": model_reg[\"_key\"],\\\n",
        "                    \"model-params\": model_params,\\\n",
        "                    \"model-perf\": model_perf,\\\n",
        "                    \"tag\": \"Housing-Price-Hyperopt-Experiment\",\\\n",
        "                    \"project\": \"Housing Price Estimation Project\"}\n",
        "ap.log_run(run_info)"
      ],
      "execution_count": 0,
      "outputs": [
        {
          "output_type": "stream",
          "text": [
            "API endpoint: https://arangoml.arangodb.cloud:8529/_db/_system/createDB/createDB\n"
          ],
          "name": "stdout"
        },
        {
          "output_type": "stream",
          "text": [
            "/usr/local/lib/python3.6/dist-packages/urllib3/connectionpool.py:847: InsecureRequestWarning: Unverified HTTPS request is being made. Adding certificate verification is strongly advised. See: https://urllib3.readthedocs.io/en/latest/advanced-usage.html#ssl-warnings\n",
            "  InsecureRequestWarning)\n"
          ],
          "name": "stderr"
        },
        {
          "output_type": "stream",
          "text": [
            "Host Connection: https://arangoml.arangodb.cloud:8529\n"
          ],
          "name": "stdout"
        },
        {
          "output_type": "stream",
          "text": [
            "2020-02-09 21:40:15,934 - arangopipe_logger - ERROR - The dataset by name: heart beat check was not found in Arangopipe!\n"
          ],
          "name": "stderr"
        }
      ]
    }
  ]
}