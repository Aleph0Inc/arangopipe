{
 "nbformat": 4,
 "nbformat_minor": 0,
 "metadata": {
  "language_info": {
   "name": "python",
   "pygments_lexer": "ipython3"
  }
 },
 "cells": [
  {
   "cell_type": "markdown",
   "metadata": {},
   "source": [
    "# Brief Data Exploration of the California Housing Dataset"
   ]
  },
  {
   "cell_type": "markdown",
   "metadata": {},
   "source": [
    "## Install Prequisites"
   ]
  },
  {
   "cell_type": "code",
   "metadata": {},
   "source": [
    "!pip install python-arango\n",
    "!pip install arangopipe==0.0.6.8.6\n",
    "!pip install pandas PyYAML==5.1.1 sklearn2\n",
    "!pip install jsonpickle\n",
    "!pip install seaborn\n",
    "!pip install dtreeviz"
   ],
   "execution_count": null,
   "outputs": []
  },
  {
   "cell_type": "markdown",
   "metadata": {},
   "source": [
    "## Read Data"
   ]
  },
  {
   "cell_type": "code",
   "metadata": {},
   "source": [
    "\n",
    "import pandas as pd\n",
    "data_url = \"https://raw.githubusercontent.com/arangoml/arangopipe/arangopipe_examples/examples/data/cal_housing.csv\"\n",
    "df = pd.read_csv(data_url, error_bad_lines=False)"
   ],
   "execution_count": null,
   "outputs": []
  },
  {
   "cell_type": "markdown",
   "metadata": {},
   "source": [
    "## Generate Summaries"
   ]
  },
  {
   "cell_type": "code",
   "metadata": {},
   "source": [
    "df.describe()"
   ],
   "execution_count": null,
   "outputs": []
  },
  {
   "cell_type": "code",
   "metadata": {},
   "source": [
    "df.dtypes"
   ],
   "execution_count": null,
   "outputs": []
  },
  {
   "cell_type": "code",
   "metadata": {},
   "source": [
    "df.hist()"
   ],
   "execution_count": null,
   "outputs": []
  },
  {
   "cell_type": "markdown",
   "metadata": {},
   "source": [
    "## Store Results in Arangopipe Database Used For Model Tracking\n",
    "\n",
    "NOTE: You need to run this notebook after you have run the notebook Arangopipe_Feature_Examples.ipynb. We will be using the same database to store the modeling activity. Unused Arangopipe managed service instances may have been recycled. So if it has been a while (more than two weeks) since you have run the Arangopipe_Feature_Examples notebook, please run that notebook prior to running this one."
   ]
  },
  {
   "cell_type": "code",
   "metadata": {},
   "source": [
    "from arangopipe.arangopipe_storage.arangopipe_api import ArangoPipe\n",
    "from arangopipe.arangopipe_storage.arangopipe_admin_api import ArangoPipeAdmin\n",
    "from arangopipe.arangopipe_storage.arangopipe_config import ArangoPipeConfig\n",
    "from arangopipe.arangopipe_storage.managed_service_conn_parameters import ManagedServiceConnParam\n",
    "mdb_config = ArangoPipeConfig()\n",
    "from google.colab import drive\n",
    "drive.mount('/content/drive')\n",
    "fp = '/content/drive/My Drive/saved_arangopipe_config.yaml'\n",
    "conn_params = mdb_config.create_config(fp)"
   ],
   "execution_count": null,
   "outputs": []
  },
  {
   "cell_type": "code",
   "metadata": {},
   "source": [
    "mdb_config = mdb_config.create_connection_config(conn_params)\n",
    "admin = ArangoPipeAdmin(reuse_connection = True, config = mdb_config)\n",
    "ap_config = admin.get_config()\n",
    "ap = ArangoPipe(config = ap_config)\n",
    "proj_info = {\"name\": \"Housing_Price_Estimation_Project\"}\n",
    "proj_reg = admin.register_project(proj_info)\n",
    "\n",
    "model_info = {\"name\": \"Data Summaries for Housing Dataset\",  \"task\": \"Exploratory Data Analysis\"}\n",
    "model_reg = ap.register_model(model_info, project = \"Housing_Price_Estimation_Project\")"
   ],
   "execution_count": null,
   "outputs": []
  },
  {
   "cell_type": "code",
   "metadata": {},
   "source": [
    "lasso_model = ap.lookup_model(\"Lasso Model for Housing Dataset\")"
   ],
   "execution_count": null,
   "outputs": []
  },
  {
   "cell_type": "code",
   "metadata": {},
   "source": [
    "lasso_model"
   ],
   "execution_count": null,
   "outputs": []
  },
  {
   "cell_type": "code",
   "metadata": {},
   "source": [
    ""
   ],
   "execution_count": null,
   "outputs": []
  }
 ]
}
