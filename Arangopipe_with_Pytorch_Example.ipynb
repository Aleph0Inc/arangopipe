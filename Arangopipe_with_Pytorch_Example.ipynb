{
  "nbformat": 4,
  "nbformat_minor": 0,
  "metadata": {
    "kernelspec": {
      "display_name": "Python 3",
      "language": "python",
      "name": "python3"
    },
    "language_info": {
      "codemirror_mode": {
        "name": "ipython",
        "version": 3
      },
      "file_extension": ".py",
      "mimetype": "text/x-python",
      "name": "python",
      "nbconvert_exporter": "python",
      "pygments_lexer": "ipython3",
      "version": "3.6.8"
    },
    "colab": {
      "name": "Arangopipe_with_Pytorch_Example.ipynb",
      "provenance": [],
      "collapsed_sections": [],
      "include_colab_link": true
    }
  },
  "cells": [
    {
      "cell_type": "markdown",
      "metadata": {
        "id": "view-in-github",
        "colab_type": "text"
      },
      "source": [
        "<a href=\"https://colab.research.google.com/github/arangoml/arangopipe/blob/add_pytorch_example/Arangopipe_with_Pytorch_Example.ipynb\" target=\"_parent\"><img src=\"https://colab.research.google.com/assets/colab-badge.svg\" alt=\"Open In Colab\"/></a>"
      ]
    },
    {
      "cell_type": "markdown",
      "metadata": {
        "id": "xE_FSlCKnsHS",
        "colab_type": "text"
      },
      "source": [
        "# Using Arangopipe with Pytorch"
      ]
    },
    {
      "cell_type": "markdown",
      "metadata": {
        "id": "UvspeJlTn1Ou",
        "colab_type": "text"
      },
      "source": [
        "This notebook serves to demonstrate the details of using Arangopipe with Pytorch to store meta-data from machine learning pipelines. This notebook uses the message classification data in the *torchtext* package. This example is available in pytorch. The notebook builds a classifier on the *AG_NEWS* dataset. The task is to predict the label of a message - Science/Technology, World News, Sports etc. The documentation narrative is supplemented to include the details of using *Arangopipe* to capture the metadata from this notebook.\n",
        "\n",
        "Note: Training will take the order of a few minutes"
      ]
    },
    {
      "cell_type": "markdown",
      "metadata": {
        "id": "gfc4jhQdp1v8",
        "colab_type": "text"
      },
      "source": [
        "## Installation Prerequisites"
      ]
    },
    {
      "cell_type": "code",
      "metadata": {
        "id": "zjX3gZy9byEa",
        "colab_type": "code",
        "outputId": "3e77b1c7-b652-4507-fc28-1c57dfc7a66a",
        "colab": {
          "base_uri": "https://localhost:8080/",
          "height": 1000
        }
      },
      "source": [
        "!pip install torch<=1.2.0\n",
        "!pip install torchtext==0.4\n",
        "!pip install python-arango\n",
        "!pip install arangopipe==0.0.6.8.9\n",
        "!pip install pandas PyYAML==5.1.1\n",
        "%matplotlib inline"
      ],
      "execution_count": 0,
      "outputs": [
        {
          "output_type": "stream",
          "text": [
            "/bin/bash: =1.2.0: No such file or directory\n",
            "Collecting torchtext==0.4\n",
            "\u001b[?25l  Downloading https://files.pythonhosted.org/packages/43/94/929d6bd236a4fb5c435982a7eb9730b78dcd8659acf328fd2ef9de85f483/torchtext-0.4.0-py3-none-any.whl (53kB)\n",
            "\u001b[K     |████████████████████████████████| 61kB 1.9MB/s \n",
            "\u001b[?25hRequirement already satisfied: torch in /usr/local/lib/python3.6/dist-packages (from torchtext==0.4) (1.4.0)\n",
            "Requirement already satisfied: tqdm in /usr/local/lib/python3.6/dist-packages (from torchtext==0.4) (4.28.1)\n",
            "Requirement already satisfied: six in /usr/local/lib/python3.6/dist-packages (from torchtext==0.4) (1.12.0)\n",
            "Requirement already satisfied: requests in /usr/local/lib/python3.6/dist-packages (from torchtext==0.4) (2.21.0)\n",
            "Requirement already satisfied: numpy in /usr/local/lib/python3.6/dist-packages (from torchtext==0.4) (1.17.5)\n",
            "Requirement already satisfied: idna<2.9,>=2.5 in /usr/local/lib/python3.6/dist-packages (from requests->torchtext==0.4) (2.8)\n",
            "Requirement already satisfied: urllib3<1.25,>=1.21.1 in /usr/local/lib/python3.6/dist-packages (from requests->torchtext==0.4) (1.24.3)\n",
            "Requirement already satisfied: chardet<3.1.0,>=3.0.2 in /usr/local/lib/python3.6/dist-packages (from requests->torchtext==0.4) (3.0.4)\n",
            "Requirement already satisfied: certifi>=2017.4.17 in /usr/local/lib/python3.6/dist-packages (from requests->torchtext==0.4) (2019.11.28)\n",
            "Installing collected packages: torchtext\n",
            "  Found existing installation: torchtext 0.3.1\n",
            "    Uninstalling torchtext-0.3.1:\n",
            "      Successfully uninstalled torchtext-0.3.1\n",
            "Successfully installed torchtext-0.4.0\n",
            "Collecting python-arango\n",
            "\u001b[?25l  Downloading https://files.pythonhosted.org/packages/f9/c3/1f8445ffc2505997da53ad5ce5e9f40875d561623d6bc84c259879e5cbcc/python-arango-5.2.1.tar.gz (78kB)\n",
            "\u001b[K     |████████████████████████████████| 81kB 2.3MB/s \n",
            "\u001b[?25hRequirement already satisfied: requests in /usr/local/lib/python3.6/dist-packages (from python-arango) (2.21.0)\n",
            "Requirement already satisfied: six in /usr/local/lib/python3.6/dist-packages (from python-arango) (1.12.0)\n",
            "Requirement already satisfied: idna<2.9,>=2.5 in /usr/local/lib/python3.6/dist-packages (from requests->python-arango) (2.8)\n",
            "Requirement already satisfied: certifi>=2017.4.17 in /usr/local/lib/python3.6/dist-packages (from requests->python-arango) (2019.11.28)\n",
            "Requirement already satisfied: chardet<3.1.0,>=3.0.2 in /usr/local/lib/python3.6/dist-packages (from requests->python-arango) (3.0.4)\n",
            "Requirement already satisfied: urllib3<1.25,>=1.21.1 in /usr/local/lib/python3.6/dist-packages (from requests->python-arango) (1.24.3)\n",
            "Building wheels for collected packages: python-arango\n",
            "  Building wheel for python-arango (setup.py) ... \u001b[?25l\u001b[?25hdone\n",
            "  Created wheel for python-arango: filename=python_arango-5.2.1-py2.py3-none-any.whl size=86479 sha256=e83e5698baf2eb8d3f8f468db278915502e861bee95341a35d5459dd97d462c0\n",
            "  Stored in directory: /root/.cache/pip/wheels/31/30/00/ef5ee59a25096d89fbb9e2526877f74c189eb6db50bbef9474\n",
            "Successfully built python-arango\n",
            "Installing collected packages: python-arango\n",
            "Successfully installed python-arango-5.2.1\n",
            "Collecting arangopipe==0.0.6.8.9\n",
            "  Downloading https://files.pythonhosted.org/packages/ed/92/d06857dc6d6a62e8f314f3b923e30361ac64e07537c56352140cbfec4c38/arangopipe-0.0.6.8.9-py3-none-any.whl\n",
            "Installing collected packages: arangopipe\n",
            "Successfully installed arangopipe-0.0.6.8.9\n",
            "Requirement already satisfied: pandas in /usr/local/lib/python3.6/dist-packages (0.25.3)\n",
            "Collecting PyYAML==5.1.1\n",
            "\u001b[?25l  Downloading https://files.pythonhosted.org/packages/a3/65/837fefac7475963d1eccf4aa684c23b95aa6c1d033a2c5965ccb11e22623/PyYAML-5.1.1.tar.gz (274kB)\n",
            "\u001b[K     |████████████████████████████████| 276kB 2.8MB/s \n",
            "\u001b[?25hRequirement already satisfied: python-dateutil>=2.6.1 in /usr/local/lib/python3.6/dist-packages (from pandas) (2.6.1)\n",
            "Requirement already satisfied: numpy>=1.13.3 in /usr/local/lib/python3.6/dist-packages (from pandas) (1.17.5)\n",
            "Requirement already satisfied: pytz>=2017.2 in /usr/local/lib/python3.6/dist-packages (from pandas) (2018.9)\n",
            "Requirement already satisfied: six>=1.5 in /usr/local/lib/python3.6/dist-packages (from python-dateutil>=2.6.1->pandas) (1.12.0)\n",
            "Building wheels for collected packages: PyYAML\n",
            "  Building wheel for PyYAML (setup.py) ... \u001b[?25l\u001b[?25hdone\n",
            "  Created wheel for PyYAML: filename=PyYAML-5.1.1-cp36-cp36m-linux_x86_64.whl size=44099 sha256=3b456cf8545ac1f8ed0644a45df38317581ef167c9c9666f2868d70591b9f9f4\n",
            "  Stored in directory: /root/.cache/pip/wheels/16/27/a1/775c62ddea7bfa62324fd1f65847ed31c55dadb6051481ba3f\n",
            "Successfully built PyYAML\n",
            "Installing collected packages: PyYAML\n",
            "  Found existing installation: PyYAML 3.13\n",
            "    Uninstalling PyYAML-3.13:\n",
            "      Successfully uninstalled PyYAML-3.13\n",
            "Successfully installed PyYAML-5.1.1\n"
          ],
          "name": "stdout"
        }
      ]
    },
    {
      "cell_type": "markdown",
      "metadata": {
        "id": "TYsoZ8tUbyEk",
        "colab_type": "text"
      },
      "source": [
        "\n",
        "Text Classification Tutorial\n",
        "============================\n",
        "\n",
        "This tutorial shows how to use the text classification datasets,\n",
        "including\n",
        "\n",
        "::\n",
        "\n",
        "   - AG_NEWS,\n",
        "   - SogouNews, \n",
        "   - DBpedia, \n",
        "   - YelpReviewPolarity,\n",
        "   - YelpReviewFull, \n",
        "   - YahooAnswers, \n",
        "   - AmazonReviewPolarity,\n",
        "   - AmazonReviewFull\n",
        "\n",
        "This example shows the application of ``TextClassification`` Dataset for\n",
        "supervised learning analysis.\n",
        "\n",
        "Load data with ngrams\n",
        "---------------------\n",
        "\n",
        "A bag of ngrams feature is applied to capture some partial information\n",
        "about the local word order. In practice, bi-gram or tri-gram are applied\n",
        "to provide more benefits as word groups than only one word. An example:\n",
        "\n",
        "::\n",
        "\n",
        "   \"load data with ngrams\"\n",
        "   Bi-grams results: \"load data\", \"data with\", \"with ngrams\"\n",
        "   Tri-grams results: \"load data with\", \"data with ngrams\"\n",
        "\n",
        "``TextClassification`` Dataset supports the ngrams method. By setting\n",
        "ngrams to 2, the example text in the dataset will be a list of single\n",
        "words plus bi-grams string.\n",
        "\n",
        "\n"
      ]
    },
    {
      "cell_type": "code",
      "metadata": {
        "id": "R0QhdR68byEm",
        "colab_type": "code",
        "outputId": "a0aa0482-36bf-4d8c-a7bf-3b0dda7da857",
        "colab": {
          "base_uri": "https://localhost:8080/",
          "height": 87
        }
      },
      "source": [
        "import torch\n",
        "import torchtext\n",
        "from torchtext.datasets import text_classification\n",
        "NGRAMS = 2\n",
        "import os\n",
        "if not os.path.isdir('./.data'):\n",
        "\tos.mkdir('./.data')\n",
        "train_dataset, test_dataset = text_classification.DATASETS['AG_NEWS'](\n",
        "    root='./.data', ngrams=NGRAMS, vocab=None)\n",
        "BATCH_SIZE = 16\n",
        "device = torch.device(\"cuda\" if torch.cuda.is_available() else \"cpu\")"
      ],
      "execution_count": 0,
      "outputs": [
        {
          "output_type": "stream",
          "text": [
            "ag_news_csv.tar.gz: 11.8MB [00:00, 83.5MB/s]\n",
            "120000lines [00:08, 13870.11lines/s]\n",
            "120000lines [00:17, 6916.69lines/s]\n",
            "7600lines [00:01, 7230.39lines/s]\n"
          ],
          "name": "stderr"
        }
      ]
    },
    {
      "cell_type": "markdown",
      "metadata": {
        "id": "Hqo6UhkqbyEs",
        "colab_type": "text"
      },
      "source": [
        "Define the model\n",
        "----------------\n",
        "\n",
        "The model is composed of the\n",
        "`EmbeddingBag <https://pytorch.org/docs/stable/nn.html?highlight=embeddingbag#torch.nn.EmbeddingBag>`__\n",
        "layer and the linear layer (see the figure below). ``nn.EmbeddingBag``\n",
        "computes the mean value of a “bag” of embeddings. The text entries here\n",
        "have different lengths. ``nn.EmbeddingBag`` requires no padding here\n",
        "since the text lengths are saved in offsets.\n",
        "\n",
        "Additionally, since ``nn.EmbeddingBag`` accumulates the average across\n",
        "the embeddings on the fly, ``nn.EmbeddingBag`` can enhance the\n",
        "performance and memory efficiency to process a sequence of tensors.\n",
        "\n",
        "![](https://github.com/pytorch/tutorials/blob/gh-pages/_static/img/text_sentiment_ngrams_model.png?raw=1)\n",
        "\n",
        "\n",
        "\n"
      ]
    },
    {
      "cell_type": "code",
      "metadata": {
        "id": "JZzM7Cs_byEu",
        "colab_type": "code",
        "colab": {}
      },
      "source": [
        "import torch.nn as nn\n",
        "import torch.nn.functional as F\n",
        "class TextSentiment(nn.Module):\n",
        "    def __init__(self, vocab_size, embed_dim, num_class):\n",
        "        super().__init__()\n",
        "        self.embedding = nn.EmbeddingBag(vocab_size, embed_dim, sparse=True)\n",
        "        self.fc = nn.Linear(embed_dim, num_class)\n",
        "        self.init_weights()\n",
        "\n",
        "    def init_weights(self):\n",
        "        initrange = 0.5\n",
        "        self.embedding.weight.data.uniform_(-initrange, initrange)\n",
        "        self.fc.weight.data.uniform_(-initrange, initrange)\n",
        "        self.fc.bias.data.zero_()\n",
        "        \n",
        "    def forward(self, text, offsets):\n",
        "        embedded = self.embedding(text, offsets)\n",
        "        return self.fc(embedded)"
      ],
      "execution_count": 0,
      "outputs": []
    },
    {
      "cell_type": "markdown",
      "metadata": {
        "id": "axC-qnRfbyE1",
        "colab_type": "text"
      },
      "source": [
        "Initiate an instance\n",
        "--------------------\n",
        "\n",
        "The AG_NEWS dataset has four labels and therefore the number of classes\n",
        "is four.\n",
        "\n",
        "::\n",
        "\n",
        "   1 : World\n",
        "   2 : Sports\n",
        "   3 : Business\n",
        "   4 : Sci/Tec\n",
        "\n",
        "The vocab size is equal to the length of vocab (including single word\n",
        "and ngrams). The number of classes is equal to the number of labels,\n",
        "which is four in AG_NEWS case.\n",
        "\n",
        "\n"
      ]
    },
    {
      "cell_type": "code",
      "metadata": {
        "id": "UvJdJ7xEbyE3",
        "colab_type": "code",
        "colab": {}
      },
      "source": [
        "VOCAB_SIZE = len(train_dataset.get_vocab())\n",
        "EMBED_DIM = 32\n",
        "NUN_CLASS = len(train_dataset.get_labels())\n",
        "model = TextSentiment(VOCAB_SIZE, EMBED_DIM, NUN_CLASS).to(device)"
      ],
      "execution_count": 0,
      "outputs": []
    },
    {
      "cell_type": "markdown",
      "metadata": {
        "id": "eqlGcVDlbyE8",
        "colab_type": "text"
      },
      "source": [
        "Functions used to generate batch\n",
        "--------------------------------\n",
        "\n",
        "\n"
      ]
    },
    {
      "cell_type": "markdown",
      "metadata": {
        "id": "PF-GBNqabyE-",
        "colab_type": "text"
      },
      "source": [
        "Since the text entries have different lengths, a custom function\n",
        "generate_batch() is used to generate data batches and offsets. The\n",
        "function is passed to ``collate_fn`` in ``torch.utils.data.DataLoader``.\n",
        "The input to ``collate_fn`` is a list of tensors with the size of\n",
        "batch_size, and the ``collate_fn`` function packs them into a\n",
        "mini-batch. Pay attention here and make sure that ``collate_fn`` is\n",
        "declared as a top level def. This ensures that the function is available\n",
        "in each worker.\n",
        "\n",
        "The text entries in the original data batch input are packed into a list\n",
        "and concatenated as a single tensor as the input of ``nn.EmbeddingBag``.\n",
        "The offsets is a tensor of delimiters to represent the beginning index\n",
        "of the individual sequence in the text tensor. Label is a tensor saving\n",
        "the labels of individual text entries.\n",
        "\n",
        "\n"
      ]
    },
    {
      "cell_type": "code",
      "metadata": {
        "id": "oDsrnc8CbyFB",
        "colab_type": "code",
        "colab": {}
      },
      "source": [
        "def generate_batch(batch):\n",
        "    label = torch.tensor([entry[0] for entry in batch])\n",
        "    text = [entry[1] for entry in batch]\n",
        "    offsets = [0] + [len(entry) for entry in text]\n",
        "    # torch.Tensor.cumsum returns the cumulative sum\n",
        "    # of elements in the dimension dim.\n",
        "    # torch.Tensor([1.0, 2.0, 3.0]).cumsum(dim=0)\n",
        "    \n",
        "    offsets = torch.tensor(offsets[:-1]).cumsum(dim=0)\n",
        "    text = torch.cat(text)\n",
        "    return text, offsets, label"
      ],
      "execution_count": 0,
      "outputs": []
    },
    {
      "cell_type": "markdown",
      "metadata": {
        "id": "BP9PRF9JbyFJ",
        "colab_type": "text"
      },
      "source": [
        "Define functions to train the model and evaluate results.\n",
        "---------------------------------------------------------\n",
        "\n",
        "\n"
      ]
    },
    {
      "cell_type": "markdown",
      "metadata": {
        "id": "JxIpt8pCbyFK",
        "colab_type": "text"
      },
      "source": [
        "`torch.utils.data.DataLoader <https://pytorch.org/docs/stable/data.html?highlight=dataloader#torch.utils.data.DataLoader>`__\n",
        "is recommended for PyTorch users, and it makes data loading in parallel\n",
        "easily (a tutorial is\n",
        "`here <https://pytorch.org/tutorials/beginner/data_loading_tutorial.html>`__).\n",
        "We use ``DataLoader`` here to load AG_NEWS datasets and send it to the\n",
        "model for training/validation.\n",
        "\n",
        "\n"
      ]
    },
    {
      "cell_type": "code",
      "metadata": {
        "id": "V-F0aUlkbyFM",
        "colab_type": "code",
        "colab": {}
      },
      "source": [
        "from torch.utils.data import DataLoader\n",
        "\n",
        "def train_func(sub_train_):\n",
        "\n",
        "    # Train the model\n",
        "    train_loss = 0\n",
        "    train_acc = 0\n",
        "    data = DataLoader(sub_train_, batch_size=BATCH_SIZE, shuffle=True,\n",
        "                      collate_fn=generate_batch)\n",
        "    for i, (text, offsets, cls) in enumerate(data):\n",
        "        optimizer.zero_grad()\n",
        "        text, offsets, cls = text.to(device), offsets.to(device), cls.to(device)\n",
        "        output = model(text, offsets)\n",
        "        loss = criterion(output, cls)\n",
        "        train_loss += loss.item()\n",
        "        loss.backward()\n",
        "        optimizer.step()\n",
        "        train_acc += (output.argmax(1) == cls).sum().item()\n",
        "\n",
        "    # Adjust the learning rate\n",
        "    scheduler.step()\n",
        "    \n",
        "    return train_loss / len(sub_train_), train_acc / len(sub_train_)\n",
        "\n",
        "def test(data_):\n",
        "    loss = 0\n",
        "    acc = 0\n",
        "    data = DataLoader(data_, batch_size=BATCH_SIZE, collate_fn=generate_batch)\n",
        "    for text, offsets, cls in data:\n",
        "        text, offsets, cls = text.to(device), offsets.to(device), cls.to(device)\n",
        "        with torch.no_grad():\n",
        "            output = model(text, offsets)\n",
        "            loss = criterion(output, cls)\n",
        "            loss += loss.item()\n",
        "            acc += (output.argmax(1) == cls).sum().item()\n",
        "\n",
        "    return loss / len(data_), acc / len(data_)"
      ],
      "execution_count": 0,
      "outputs": []
    },
    {
      "cell_type": "markdown",
      "metadata": {
        "id": "ZmV0i6d6byFQ",
        "colab_type": "text"
      },
      "source": [
        "Split the dataset and run the model\n",
        "-----------------------------------\n",
        "\n",
        "Since the original AG_NEWS has no valid dataset, we split the training\n",
        "dataset into train/valid sets with a split ratio of 0.95 (train) and\n",
        "0.05 (valid). Here we use\n",
        "`torch.utils.data.dataset.random_split <https://pytorch.org/docs/stable/data.html?highlight=random_split#torch.utils.data.random_split>`__\n",
        "function in PyTorch core library.\n",
        "\n",
        "`CrossEntropyLoss <https://pytorch.org/docs/stable/nn.html?highlight=crossentropyloss#torch.nn.CrossEntropyLoss>`__\n",
        "criterion combines nn.LogSoftmax() and nn.NLLLoss() in a single class.\n",
        "It is useful when training a classification problem with C classes.\n",
        "`SGD <https://pytorch.org/docs/stable/_modules/torch/optim/sgd.html>`__\n",
        "implements stochastic gradient descent method as optimizer. The initial\n",
        "learning rate is set to 4.0.\n",
        "`StepLR <https://pytorch.org/docs/master/_modules/torch/optim/lr_scheduler.html#StepLR>`__\n",
        "is used here to adjust the learning rate through epochs.\n",
        "\n",
        "\n"
      ]
    },
    {
      "cell_type": "code",
      "metadata": {
        "id": "h4yKMoxmbyFS",
        "colab_type": "code",
        "outputId": "ecd4a248-5ef4-451e-9bb8-0233223a889e",
        "colab": {
          "base_uri": "https://localhost:8080/",
          "height": 281
        }
      },
      "source": [
        "import time\n",
        "from torch.utils.data.dataset import random_split\n",
        "N_EPOCHS = 5\n",
        "min_valid_loss = float('inf')\n",
        "\n",
        "criterion = torch.nn.CrossEntropyLoss().to(device)\n",
        "optimizer = torch.optim.SGD(model.parameters(), lr=4.0)\n",
        "scheduler = torch.optim.lr_scheduler.StepLR(optimizer, 1, gamma=0.9)\n",
        "\n",
        "train_len = int(len(train_dataset) * 0.95)\n",
        "sub_train_, sub_valid_ = \\\n",
        "    random_split(train_dataset, [train_len, len(train_dataset) - train_len])\n",
        "\n",
        "for epoch in range(N_EPOCHS):\n",
        "\n",
        "    start_time = time.time()\n",
        "    train_loss, train_acc = train_func(sub_train_)\n",
        "    valid_loss, valid_acc = test(sub_valid_)\n",
        "\n",
        "    secs = int(time.time() - start_time)\n",
        "    mins = secs / 60\n",
        "    secs = secs % 60\n",
        "\n",
        "    print('Epoch: %d' %(epoch + 1), \" | time in %d minutes, %d seconds\" %(mins, secs))\n",
        "    print(f'\\tLoss: {train_loss:.4f}(train)\\t|\\tAcc: {train_acc * 100:.1f}%(train)')\n",
        "    print(f'\\tLoss: {valid_loss:.4f}(valid)\\t|\\tAcc: {valid_acc * 100:.1f}%(valid)')"
      ],
      "execution_count": 0,
      "outputs": [
        {
          "output_type": "stream",
          "text": [
            "Epoch: 1  | time in 0 minutes, 25 seconds\n",
            "\tLoss: 0.0261(train)\t|\tAcc: 84.7%(train)\n",
            "\tLoss: 0.0001(valid)\t|\tAcc: 90.4%(valid)\n",
            "Epoch: 2  | time in 0 minutes, 25 seconds\n",
            "\tLoss: 0.0119(train)\t|\tAcc: 93.7%(train)\n",
            "\tLoss: 0.0001(valid)\t|\tAcc: 91.1%(valid)\n",
            "Epoch: 3  | time in 0 minutes, 25 seconds\n",
            "\tLoss: 0.0069(train)\t|\tAcc: 96.4%(train)\n",
            "\tLoss: 0.0000(valid)\t|\tAcc: 89.2%(valid)\n",
            "Epoch: 4  | time in 0 minutes, 25 seconds\n",
            "\tLoss: 0.0039(train)\t|\tAcc: 98.1%(train)\n",
            "\tLoss: 0.0000(valid)\t|\tAcc: 91.2%(valid)\n",
            "Epoch: 5  | time in 0 minutes, 25 seconds\n",
            "\tLoss: 0.0023(train)\t|\tAcc: 99.0%(train)\n",
            "\tLoss: 0.0000(valid)\t|\tAcc: 90.2%(valid)\n"
          ],
          "name": "stdout"
        }
      ]
    },
    {
      "cell_type": "markdown",
      "metadata": {
        "id": "9B_1rmn0byFb",
        "colab_type": "text"
      },
      "source": [
        "Evaluate the model with test dataset\n",
        "------------------------------------\n",
        "\n",
        "\n"
      ]
    },
    {
      "cell_type": "code",
      "metadata": {
        "id": "yDzxbS9UbyFd",
        "colab_type": "code",
        "outputId": "91742285-732f-42ab-a13a-dccc5df5f141",
        "colab": {
          "base_uri": "https://localhost:8080/",
          "height": 52
        }
      },
      "source": [
        "print('Checking the results of test dataset...')\n",
        "test_loss, test_acc = test(test_dataset)\n",
        "print(f'\\tLoss: {test_loss:.4f}(test)\\t|\\tAcc: {test_acc * 100:.1f}%(test)')"
      ],
      "execution_count": 0,
      "outputs": [
        {
          "output_type": "stream",
          "text": [
            "Checking the results of test dataset...\n",
            "\tLoss: 0.0003(test)\t|\tAcc: 87.6%(test)\n"
          ],
          "name": "stdout"
        }
      ]
    },
    {
      "cell_type": "markdown",
      "metadata": {
        "id": "0f1Rn2IdbyFl",
        "colab_type": "text"
      },
      "source": [
        "Test on a random news\n",
        "---------------------\n",
        "\n",
        "Use the best model so far and test a golf news. The label information is\n",
        "available\n",
        "`here <https://pytorch.org/text/datasets.html?highlight=ag_news#torchtext.datasets.AG_NEWS>`__.\n",
        "\n",
        "\n"
      ]
    },
    {
      "cell_type": "code",
      "metadata": {
        "id": "DjzD-o2-byFn",
        "colab_type": "code",
        "outputId": "f4daa924-2c36-483c-9e07-2a39ab58543a",
        "colab": {
          "base_uri": "https://localhost:8080/",
          "height": 34
        }
      },
      "source": [
        "import re\n",
        "from torchtext.data.utils import ngrams_iterator\n",
        "from torchtext.data.utils import get_tokenizer\n",
        "\n",
        "ag_news_label = {1 : \"World\",\n",
        "                 2 : \"Sports\",\n",
        "                 3 : \"Business\",\n",
        "                 4 : \"Sci/Tec\"}\n",
        "\n",
        "def predict(text, model, vocab, ngrams):\n",
        "    tokenizer = get_tokenizer(\"basic_english\")\n",
        "    with torch.no_grad():\n",
        "        text = torch.tensor([vocab[token]\n",
        "                            for token in ngrams_iterator(tokenizer(text), ngrams)])\n",
        "        output = model(text, torch.tensor([0]))\n",
        "        return output.argmax(1).item() + 1\n",
        "\n",
        "ex_text_str = \"MEMPHIS, Tenn. – Four days ago, Jon Rahm was \\\n",
        "    enduring the season’s worst weather conditions on Sunday at The \\\n",
        "    Open on his way to a closing 75 at Royal Portrush, which \\\n",
        "    considering the wind and the rain was a respectable showing. \\\n",
        "    Thursday’s first round at the WGC-FedEx St. Jude Invitational \\\n",
        "    was another story. With temperatures in the mid-80s and hardly any \\\n",
        "    wind, the Spaniard was 13 strokes better in a flawless round. \\\n",
        "    Thanks to his best putting performance on the PGA Tour, Rahm \\\n",
        "    finished with an 8-under 62 for a three-stroke lead, which \\\n",
        "    was even more impressive considering he’d never played the \\\n",
        "    front nine at TPC Southwind.\"\n",
        "\n",
        "vocab = train_dataset.get_vocab()\n",
        "model = model.to(\"cpu\")\n",
        "\n",
        "print(\"This is a %s news\" %ag_news_label[predict(ex_text_str, model, vocab, 2)])"
      ],
      "execution_count": 0,
      "outputs": [
        {
          "output_type": "stream",
          "text": [
            "This is a Sports news\n"
          ],
          "name": "stdout"
        }
      ]
    },
    {
      "cell_type": "markdown",
      "metadata": {
        "id": "SPxH0vwXqSnr",
        "colab_type": "text"
      },
      "source": [
        "# Using Arangopipe to Capture Metadata"
      ]
    },
    {
      "cell_type": "code",
      "metadata": {
        "id": "J-aAu1DLg_5k",
        "colab_type": "code",
        "colab": {}
      },
      "source": [
        "\n",
        "from arangopipe.arangopipe_storage.arangopipe_api import ArangoPipe\n",
        "from arangopipe.arangopipe_storage.arangopipe_admin_api import ArangoPipeAdmin\n",
        "from arangopipe.arangopipe_storage.arangopipe_config import ArangoPipeConfig\n",
        "from arangopipe.arangopipe_storage.managed_service_conn_parameters import ManagedServiceConnParam\n",
        "mdb_config = ArangoPipeConfig()\n",
        "msc = ManagedServiceConnParam()\n",
        "conn_params = { msc.DB_SERVICE_HOST : \"arangoml.arangodb.cloud\", \\\n",
        "                        msc.DB_SERVICE_END_POINT : \"createDB\",\\\n",
        "                        msc.DB_SERVICE_NAME : \"createDB\",\\\n",
        "                        msc.DB_SERVICE_PORT : 8529,\n",
        "                        msc.DB_CONN_PROTOCOL : 'https'}\n",
        "        \n",
        "mdb_config = mdb_config.create_connection_config(conn_params)"
      ],
      "execution_count": 0,
      "outputs": []
    },
    {
      "cell_type": "code",
      "metadata": {
        "id": "e1jFj9F4hs-4",
        "colab_type": "code",
        "outputId": "a5d56e14-f63c-43df-d1fb-d4a8835fb103",
        "colab": {
          "base_uri": "https://localhost:8080/",
          "height": 195
        }
      },
      "source": [
        "admin = ArangoPipeAdmin(reuse_connection = False, config = mdb_config)\n",
        "ap_config = admin.get_config()\n",
        "ap = ArangoPipe(config = ap_config)\n",
        "# Error indicating \"heart beat check was not found\" is expected."
      ],
      "execution_count": 0,
      "outputs": [
        {
          "output_type": "stream",
          "text": [
            "DEBUG:arangopipe_admin_logger:Connection reuse: False\n",
            "INFO:arangopipe_admin_logger:Requesting a managed service database...\n"
          ],
          "name": "stderr"
        },
        {
          "output_type": "stream",
          "text": [
            "API endpoint: https://arangoml.arangodb.cloud:8529/_db/_system/createDB/createDB\n"
          ],
          "name": "stdout"
        },
        {
          "output_type": "stream",
          "text": [
            "/usr/local/lib/python3.6/dist-packages/urllib3/connectionpool.py:847: InsecureRequestWarning: Unverified HTTPS request is being made. Adding certificate verification is strongly advised. See: https://urllib3.readthedocs.io/en/latest/advanced-usage.html#ssl-warnings\n",
            "  InsecureRequestWarning)\n",
            "INFO:arangopipe_admin_logger:Managed service database was created !\n"
          ],
          "name": "stderr"
        },
        {
          "output_type": "stream",
          "text": [
            "Host Connection: https://arangoml.arangodb.cloud:8529\n"
          ],
          "name": "stdout"
        },
        {
          "output_type": "stream",
          "text": [
            "2020-02-20 11:11:23,236 - arangopipe_logger - ERROR - The dataset by name: heart beat check was not found in Arangopipe!\n",
            "ERROR:arangopipe_logger:The dataset by name: heart beat check was not found in Arangopipe!\n"
          ],
          "name": "stderr"
        }
      ]
    },
    {
      "cell_type": "code",
      "metadata": {
        "id": "wMD9lPxLh2XH",
        "colab_type": "code",
        "outputId": "762abd39-2619-4b6c-9a6a-3b5d6e8c3ba5",
        "colab": {
          "base_uri": "https://localhost:8080/",
          "height": 87
        }
      },
      "source": [
        "proj_info = {\"name\": \"Text_Classification_Using_Pytorch\"}\n",
        "proj_reg = admin.register_project(proj_info)\n",
        "\n",
        "ds_info = {\"name\" : \"text classification dataset in torchtext\",\\\n",
        "           \"description\": \"Classification task pertaining to classifiying the category of a message\" }\n",
        "ds_reg = ap.register_dataset(ds_info)\n",
        "\n",
        "featureset = {'name': 'model_embeddings',\\\n",
        "              'description': 'see model state for embeddings'}\n",
        "fs_reg = ap.register_featureset(featureset, ds_reg[\"_key\"])\n",
        "\n",
        "model_info = {\"name\": \"Neural Network\",\\\n",
        "              \"type\": \"Neural network with a linear layer and an embedding layer using the Cross-Entropy loss with SGD optimizer  \"}\n",
        "model_reg = ap.register_model(model_info, project = \"Text_Classification_Using_Pytorch\")"
      ],
      "execution_count": 0,
      "outputs": [
        {
          "output_type": "stream",
          "text": [
            "INFO:arangopipe_logger:Recording dataset dataset link {'_id': 'datasets/54082370', '_key': '54082370', '_rev': '_aEHJj5y---'}\n",
            "INFO:arangopipe_logger:Recording featureset {'_id': 'featuresets/54082371', '_key': '54082371', '_rev': '_aEHJkAy--A'}\n",
            "INFO:arangopipe_logger:Recording featureset dataset link {'_id': 'featureset_dataset/54082371-54082370', '_key': '54082371-54082370', '_rev': '_aEHJkHa--A'}\n",
            "INFO:arangopipe_logger:Recording project model link {'_id': 'project_models/54082369-54082372', '_key': '54082369-54082372', '_rev': '_aEHJkau--A'}\n"
          ],
          "name": "stderr"
        }
      ]
    },
    {
      "cell_type": "code",
      "metadata": {
        "colab_type": "code",
        "outputId": "a9982304-afeb-4d6b-a7c4-0ef7088051f6",
        "id": "WCpg04oJ0ZHv",
        "colab": {
          "base_uri": "https://localhost:8080/",
          "height": 195
        }
      },
      "source": [
        "\n",
        "import uuid #used as run id\n",
        "\n",
        "from datetime import datetime\n",
        "\n",
        "# current date and time\n",
        "now = datetime.now()\n",
        "timestamp = datetime.timestamp(now)\n",
        "ruuid = uuid.uuid4()\n",
        "\n",
        "model_params = {\"run_id\": str(ruuid), 'nn_parameters_storage_loc': '< a hdfs url>'}\n",
        "model_perf = {'training_accuracy': train_acc, 'test_accuracy': test_acc, \"run_id\": str(ruuid), \"timestamp\": timestamp}\n",
        "run_info = {\"dataset\" : ds_reg[\"_key\"],\\\n",
        "              \"featureset\": fs_reg[\"_key\"],\\\n",
        "              \"run_id\": str(ruuid),\\\n",
        "              \"model\": model_reg[\"_key\"],\\\n",
        "              \"model-params\": model_params,\\\n",
        "              \"model-perf\": model_perf,\\\n",
        "              \"pipeline\" : \"Text Classification Pipeline\",\\\n",
        "              \"tag\": \"text_classification_model_params_saved\",\\\n",
        "              \"project\": \"Text_Classification_Using_Pytorch\"}\n",
        "\n",
        "ap.log_run(run_info)"
      ],
      "execution_count": 0,
      "outputs": [
        {
          "output_type": "stream",
          "text": [
            "INFO:arangopipe_logger:Run info {'_key': '96318554-52c1-4396-9d30-5e0bf2ea3708', 'timestamp': 1582197095.216473, 'tag': 'text_classification_model_params_saved'}\n",
            "INFO:arangopipe_logger:Recording run {'_id': 'run/96318554-52c1-4396-9d30-5e0bf2ea3708', '_key': '96318554-52c1-4396-9d30-5e0bf2ea3708', '_rev': '_aEHJs3m--_'}\n",
            "INFO:arangopipe_logger:Recording model run link {'_id': 'run_models/96318554-52c1-4396-9d30-5e0bf2ea3708-54082372', '_key': '96318554-52c1-4396-9d30-5e0bf2ea3708-54082372', '_rev': '_aEHJt-G--A'}\n",
            "INFO:arangopipe_logger:Recording model params {'_id': 'modelparams/96318554-52c1-4396-9d30-5e0bf2ea3708', '_key': '96318554-52c1-4396-9d30-5e0bf2ea3708', '_rev': '_aEHJtEm--A'}\n",
            "INFO:arangopipe_logger:Recording run featureset link {'_id': 'run_featuresets/96318554-52c1-4396-9d30-5e0bf2ea3708-54082371', '_key': '96318554-52c1-4396-9d30-5e0bf2ea3708-54082371', '_rev': '_aEHJtLK---'}\n",
            "INFO:arangopipe_logger:Recording run model params {'_id': 'run_modelparams/96318554-52c1-4396-9d30-5e0bf2ea3708-96318554-52c1-4396-9d30-5e0bf2ea3708', '_key': '96318554-52c1-4396-9d30-5e0bf2ea3708-96318554-52c1-4396-9d30-5e0bf2ea3708', '_rev': '_aEHJtRu--A'}\n",
            "INFO:arangopipe_logger:Recording model dev performance  {'_id': 'devperf/96318554-52c1-4396-9d30-5e0bf2ea3708', '_key': '96318554-52c1-4396-9d30-5e0bf2ea3708', '_rev': '_aEHJtYO--_'}\n",
            "INFO:arangopipe_logger:Recording run dev perf link {'_id': 'run_devperf/96318554-52c1-4396-9d30-5e0bf2ea3708-96318554-52c1-4396-9d30-5e0bf2ea3708', '_key': '96318554-52c1-4396-9d30-5e0bf2ea3708-96318554-52c1-4396-9d30-5e0bf2ea3708', '_rev': '_aEHJte2---'}\n",
            "INFO:arangopipe_logger:Recording run dev perf link {'_id': 'run_datasets/96318554-52c1-4396-9d30-5e0bf2ea3708-54082370', '_key': '96318554-52c1-4396-9d30-5e0bf2ea3708-54082370', '_rev': '_aEHJtl2--_'}\n"
          ],
          "name": "stderr"
        }
      ]
    },
    {
      "cell_type": "markdown",
      "metadata": {
        "id": "RUWEG38lysDw",
        "colab_type": "text"
      },
      "source": [
        "## Review the Metadata Captured"
      ]
    },
    {
      "cell_type": "markdown",
      "metadata": {
        "id": "LEOKs0Xry6fp",
        "colab_type": "text"
      },
      "source": [
        "The above example illustrated the details of storing metadata from machine learning model development into Arangopipe. This information can be subsequently retrieved as shown below. Since, we are using the same notebook, we can simply request a connection to the Arangopipe database used above by specifying the reconnection parameter to be true. If you need to reconnect to the database created earlier in another notebook, you can do so by exporting the connection information to a file. You can then import this connection configuration in your new notebook. See the notebooks *Arangopipe_Feature_Examples* and *Reuse_Old_Arangopipe_Connection* for the details.\n"
      ]
    },
    {
      "cell_type": "code",
      "metadata": {
        "id": "eZFkXtAG0lji",
        "colab_type": "code",
        "outputId": "b885af14-7f9f-4507-928d-5e8ff8cee039",
        "colab": {
          "base_uri": "https://localhost:8080/",
          "height": 158
        }
      },
      "source": [
        "admin = ArangoPipeAdmin(reuse_connection = True)\n",
        "ap_config = admin.get_config()\n",
        "ap = ArangoPipe(config = ap_config)"
      ],
      "execution_count": 0,
      "outputs": [
        {
          "output_type": "stream",
          "text": [
            "INFO:arangopipe_admin_logger:If a config is provided, it will be used for setting up the connection\n",
            "INFO:arangopipe_admin_logger:DB name for connection: MLdnkskf2efzdtskfnq3rs7f\n",
            "INFO:arangopipe_admin_logger:user name for connection: MLjh7zu8wy07mk1bz026dyn\n",
            "INFO:arangopipe_admin_logger:A specific password was requested !\n",
            "DEBUG:arangopipe_admin_logger:Connection reuse: True\n"
          ],
          "name": "stderr"
        },
        {
          "output_type": "stream",
          "text": [
            "Host Connection: https://arangoml.arangodb.cloud:8529\n"
          ],
          "name": "stdout"
        },
        {
          "output_type": "stream",
          "text": [
            "2020-02-20 11:11:38,813 - arangopipe_logger - ERROR - The dataset by name: heart beat check was not found in Arangopipe!\n",
            "ERROR:arangopipe_logger:The dataset by name: heart beat check was not found in Arangopipe!\n"
          ],
          "name": "stderr"
        }
      ]
    },
    {
      "cell_type": "markdown",
      "metadata": {
        "id": "hCyWxLaUOqNB",
        "colab_type": "text"
      },
      "source": [
        "Use the connection obtained above to retrieve the model performance of the model created earlier."
      ]
    },
    {
      "cell_type": "code",
      "metadata": {
        "id": "q_YbQ2S_03vN",
        "colab_type": "code",
        "outputId": "c21dfb9e-ba32-46b3-b33b-f310bd855c62",
        "colab": {
          "base_uri": "https://localhost:8080/",
          "height": 140
        }
      },
      "source": [
        "ap.lookup_modelperf(tag_value='text_classification_model_params_saved')"
      ],
      "execution_count": 0,
      "outputs": [
        {
          "output_type": "execute_result",
          "data": {
            "text/plain": [
              "{'_id': 'devperf/96318554-52c1-4396-9d30-5e0bf2ea3708',\n",
              " '_key': '96318554-52c1-4396-9d30-5e0bf2ea3708',\n",
              " '_rev': '_aEHJtYO--_',\n",
              " 'run_id': '96318554-52c1-4396-9d30-5e0bf2ea3708',\n",
              " 'test_accuracy': 0.8763157894736842,\n",
              " 'timestamp': 1582197095.216473,\n",
              " 'training_accuracy': 0.9900701754385965}"
            ]
          },
          "metadata": {
            "tags": []
          },
          "execution_count": 15
        }
      ]
    },
    {
      "cell_type": "code",
      "metadata": {
        "id": "ajcCjbnoMd7_",
        "colab_type": "code",
        "colab": {}
      },
      "source": [
        ""
      ],
      "execution_count": 0,
      "outputs": []
    }
  ]
}