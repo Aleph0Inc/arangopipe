{
 "cells": [
  {
   "cell_type": "markdown",
   "metadata": {},
   "source": [
    "# Getting Started with Arangopipe\n",
    "\n",
    "## Overview\n",
    "- Provide an introduction to the features of **Arangopipe\n",
    "- Provide a starter template that user's can adapt to their needs\n",
    "- Provide samples of how **Arangopipe** can be used with components of a machine learning stack\n",
    "- Provide concrete samples of each API provided by **Arangopipe**\n",
    "- Test data generation utilities\n",
    "\n",
    "\n",
    "\n",
    "## Verify Installation\n",
    "- Users can verify installation by running run_tests in **arangopipe_test_cases.py**\n",
    "- This python script provides examples for each API provided by **Arangopipe**\n",
    "- Explain the organization of the examples in the container. Examples for each of the tools below are provided in the **examples** directory. The examples for each tool are provided in a directory having the tool as its name.\n",
    "\n",
    "\n",
    "\n",
    "## Tensorflow/TFX\n",
    "\n",
    "- Example illustrates how **Arangopipe** can be used with **TFX** and **Tensorflow** to capture meta-data\n",
    "\n",
    "\n",
    "\n",
    "## Hyperopt\n",
    "- Hyperparameter optimization experiments are one of the most common tasks performed by **data scientists**. Capturing experimental results, observations and hypothesis are critical.\n",
    "- Example notebook provides a detailed illustration of the process with **hyperopt**, a hyper-parameter optimization toolkit.\n",
    "\n",
    "\n",
    "\n",
    "## MLFlow\n",
    "\n",
    "- Arangopipe can be used in conjuction with other tools and API that capture ML metadata, for example **MLFlow**. The data captured can be stored in **ArangoDB** using **Arangopipe**.\n",
    "- Notebooks providing an illustration of this capability are provided.\n",
    "- Explain the the dataset and three experiment-scenarios in the **MLFlow** directory\n",
    "\n",
    "\n",
    "## Scikit-learn\n",
    "- Perhaps user's don't need **Tensorflow** for their ML tasks. The examples in the **hyperopt** and **MLFlow** illustrate how **Arangopipe** can be used with **scikit-learn**\n",
    "\n",
    "\n",
    "\n",
    "## Covariate Shift Detection\n",
    "- Not API-fied yet, but not a lot of work to accomplish this. Perhaps half a day to a day at most\n",
    "\n",
    "\n",
    "## Test Data Generation Utilities\n",
    "\n",
    "- Do we need to explain this feature?\n",
    "- We have generator script for models, need to create scripts for hyper-parameter experiments and exploratory data analysis.\n"
   ]
  }
 ],
 "metadata": {
  "kernelspec": {
   "display_name": "Python 3",
   "language": "python",
   "name": "python3"
  },
  "language_info": {
   "codemirror_mode": {
    "name": "ipython",
    "version": 3
   },
   "file_extension": ".py",
   "mimetype": "text/x-python",
   "name": "python",
   "nbconvert_exporter": "python",
   "pygments_lexer": "ipython3",
   "version": "3.7.2"
  }
 },
 "nbformat": 4,
 "nbformat_minor": 2
}
